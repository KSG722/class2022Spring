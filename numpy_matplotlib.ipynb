{
  "nbformat": 4,
  "nbformat_minor": 0,
  "metadata": {
    "kernelspec": {
      "display_name": "Python 3",
      "language": "python",
      "name": "python3"
    },
    "language_info": {
      "codemirror_mode": {
        "name": "ipython",
        "version": 3
      },
      "file_extension": ".py",
      "mimetype": "text/x-python",
      "name": "python",
      "nbconvert_exporter": "python",
      "pygments_lexer": "ipython3",
      "version": "3.7.1"
    },
    "colab": {
      "name": "numpy_matplotlib.ipynb의 사본",
      "provenance": [],
      "include_colab_link": true
    }
  },
  "cells": [
    {
      "cell_type": "markdown",
      "metadata": {
        "id": "view-in-github",
        "colab_type": "text"
      },
      "source": [
        "<a href=\"https://colab.research.google.com/github/KSG722/class2022Spring/blob/main/numpy_matplotlib(nd%20arrays%2C%20random%20number).ipynb\" target=\"_parent\"><img src=\"https://colab.research.google.com/assets/colab-badge.svg\" alt=\"Open In Colab\"/></a>"
      ]
    },
    {
      "cell_type": "markdown",
      "metadata": {
        "id": "JcCdLoe_4bY7"
      },
      "source": [
        "### create nd arrays (≈matrices)"
      ]
    },
    {
      "cell_type": "markdown",
      "source": [
        "nd arrays : n- dimensional array\n",
        "\n",
        "행렬은 주로 2 dimensional array"
      ],
      "metadata": {
        "id": "7j14lNE01Msf"
      }
    },
    {
      "cell_type": "code",
      "metadata": {
        "id": "5ap7xyofShBB"
      },
      "source": [
        "import numpy as np"
      ],
      "execution_count": 2,
      "outputs": []
    },
    {
      "cell_type": "code",
      "metadata": {
        "id": "2rqpSPZCShBC",
        "colab": {
          "base_uri": "https://localhost:8080/"
        },
        "outputId": "8a4d14a6-b816-432a-caae-902c8c640f33"
      },
      "source": [
        "x = np.array([1,2,3])\n",
        "print(x)\n",
        "print(type(x))\n",
        "print(x.shape)"
      ],
      "execution_count": null,
      "outputs": [
        {
          "output_type": "stream",
          "name": "stdout",
          "text": [
            "[1 2 3]\n",
            "<class 'numpy.ndarray'>\n",
            "(3,)\n"
          ]
        }
      ]
    },
    {
      "cell_type": "markdown",
      "source": [
        "x= np.array([1,2,3]) : [1,2,3]이라는 list를 array로 정의\n",
        "\n",
        "print(x.shape) : (3,) <- 1-dimensional array라서 (3,)으로 나옴\n",
        "\n"
      ],
      "metadata": {
        "id": "XNVYCXwu1wxj"
      }
    },
    {
      "cell_type": "code",
      "source": [
        "np.array([1,2,3])*3"
      ],
      "metadata": {
        "id": "3xrxitdBkSU7",
        "outputId": "bfb0d39f-7769-451f-defe-fba9edcc473d",
        "colab": {
          "base_uri": "https://localhost:8080/"
        }
      },
      "execution_count": 3,
      "outputs": [
        {
          "output_type": "execute_result",
          "data": {
            "text/plain": [
              "array([3, 6, 9])"
            ]
          },
          "metadata": {},
          "execution_count": 3
        }
      ]
    },
    {
      "cell_type": "markdown",
      "source": [
        "수학적 계산은 array에서만 가능\n",
        "\n",
        "list 형태의 데이터는 수학적 계산 불가\n",
        "\n",
        "ex) [1,2,3]*3 -> 오류 뜸"
      ],
      "metadata": {
        "id": "V3cngjtRkbxn"
      }
    },
    {
      "cell_type": "code",
      "metadata": {
        "id": "EjC88C75ShBC",
        "colab": {
          "base_uri": "https://localhost:8080/"
        },
        "outputId": "7143e4dd-2864-4b57-855e-56eb92a6bd75"
      },
      "source": [
        "x = np.arange(0,10,2)\n",
        "print(x)\n",
        "print(type(x))\n",
        "print(x.shape)"
      ],
      "execution_count": null,
      "outputs": [
        {
          "output_type": "stream",
          "name": "stdout",
          "text": [
            "[0 2 4 6 8]\n",
            "<class 'numpy.ndarray'>\n",
            "(5,)\n"
          ]
        }
      ]
    },
    {
      "cell_type": "markdown",
      "source": [
        "arange함수 : 0부터 10까지를 2 단위로 쪼개서 배열하라. 조심해야 할 점은 10은 제외.\n",
        "\n",
        "print(x.shape) : 역시나 1차원 arrary라서 (5,)로 나옴\n",
        "\n"
      ],
      "metadata": {
        "id": "T1cVMzo_2J_7"
      }
    },
    {
      "cell_type": "code",
      "metadata": {
        "id": "-MwkCEjTShBC",
        "colab": {
          "base_uri": "https://localhost:8080/"
        },
        "outputId": "11427674-886c-4f82-ca48-a1465f53223e"
      },
      "source": [
        "x = np.linspace(0,10,6)\n",
        "print(x)\n",
        "print(type(x))\n",
        "print(x.shape)"
      ],
      "execution_count": null,
      "outputs": [
        {
          "output_type": "stream",
          "name": "stdout",
          "text": [
            "[ 0.  2.  4.  6.  8. 10.]\n",
            "<class 'numpy.ndarray'>\n",
            "(6,)\n"
          ]
        }
      ]
    },
    {
      "cell_type": "markdown",
      "source": [
        "linspace 함수 : 0부터 10까지 6개의 원소로 등분(linear하게 space로 쪼개)하라. 이 때 조심해야 할 점은 10이 포함이라는 것!!"
      ],
      "metadata": {
        "id": "iUUTVgph2lfh"
      }
    },
    {
      "cell_type": "code",
      "metadata": {
        "id": "tjk79SQ27fNv",
        "colab": {
          "base_uri": "https://localhost:8080/"
        },
        "outputId": "3ff3368b-6bb1-4664-933e-8504613780b1"
      },
      "source": [
        "x = np.array([[1,2,3], [4,5,6]])\n",
        "print(x)\n",
        "print(type(x))\n",
        "print(x.shape)"
      ],
      "execution_count": null,
      "outputs": [
        {
          "output_type": "stream",
          "name": "stdout",
          "text": [
            "[[1 2 3]\n",
            " [4 5 6]]\n",
            "<class 'numpy.ndarray'>\n",
            "(2, 3)\n"
          ]
        }
      ]
    },
    {
      "cell_type": "markdown",
      "source": [
        "여기서는 2차원의 행렬이 등장\n",
        "\n"
      ],
      "metadata": {
        "id": "VXRY4zMO2xru"
      }
    },
    {
      "cell_type": "code",
      "metadata": {
        "id": "C1ogg6iZ7yir",
        "colab": {
          "base_uri": "https://localhost:8080/"
        },
        "outputId": "79400d92-06d0-4aa7-bbef-c0b2f9d5e983"
      },
      "source": [
        "x = np.array([[[1,2,3], [4,5,6]], [[7,8,9], [10,11,12]]])\n",
        "print(x)\n",
        "print(type(x))\n",
        "print(x.shape)"
      ],
      "execution_count": 4,
      "outputs": [
        {
          "output_type": "stream",
          "name": "stdout",
          "text": [
            "[[[ 1  2  3]\n",
            "  [ 4  5  6]]\n",
            "\n",
            " [[ 7  8  9]\n",
            "  [10 11 12]]]\n",
            "<class 'numpy.ndarray'>\n",
            "(2, 2, 3)\n"
          ]
        }
      ]
    },
    {
      "cell_type": "markdown",
      "source": [
        "3차원 행렬 등장"
      ],
      "metadata": {
        "id": "2BKZOLpJ3goC"
      }
    },
    {
      "cell_type": "code",
      "source": [
        "x.reshape(4,3,1)"
      ],
      "metadata": {
        "id": "022cL_c1mxmU",
        "outputId": "df651a03-c71d-449d-a050-18645d45beec",
        "colab": {
          "base_uri": "https://localhost:8080/"
        }
      },
      "execution_count": 5,
      "outputs": [
        {
          "output_type": "execute_result",
          "data": {
            "text/plain": [
              "array([[[ 1],\n",
              "        [ 2],\n",
              "        [ 3]],\n",
              "\n",
              "       [[ 4],\n",
              "        [ 5],\n",
              "        [ 6]],\n",
              "\n",
              "       [[ 7],\n",
              "        [ 8],\n",
              "        [ 9]],\n",
              "\n",
              "       [[10],\n",
              "        [11],\n",
              "        [12]]])"
            ]
          },
          "metadata": {},
          "execution_count": 5
        }
      ]
    },
    {
      "cell_type": "code",
      "source": [
        "x.reshape(3,2,-1)"
      ],
      "metadata": {
        "id": "ZxKa0OFdm5iL",
        "outputId": "eedc5f39-9275-452d-ea1c-12fa0706f9ac",
        "colab": {
          "base_uri": "https://localhost:8080/"
        }
      },
      "execution_count": 6,
      "outputs": [
        {
          "output_type": "execute_result",
          "data": {
            "text/plain": [
              "array([[[ 1,  2],\n",
              "        [ 3,  4]],\n",
              "\n",
              "       [[ 5,  6],\n",
              "        [ 7,  8]],\n",
              "\n",
              "       [[ 9, 10],\n",
              "        [11, 12]]])"
            ]
          },
          "metadata": {},
          "execution_count": 6
        }
      ]
    },
    {
      "cell_type": "markdown",
      "source": [
        "reshape은 -1을 컴퓨터더러 알아서 해달라는 뜻"
      ],
      "metadata": {
        "id": "8GsbcySQm-35"
      }
    },
    {
      "cell_type": "code",
      "metadata": {
        "id": "efgeNHtD8ZlT",
        "colab": {
          "base_uri": "https://localhost:8080/"
        },
        "outputId": "047fb9dd-8c90-4dbf-9f12-35123bed1052"
      },
      "source": [
        "x = np.ones([2, 2, 3])\n",
        "print(x)\n",
        "print(type(x))\n",
        "print(x.shape)"
      ],
      "execution_count": null,
      "outputs": [
        {
          "output_type": "stream",
          "name": "stdout",
          "text": [
            "[[[1. 1. 1.]\n",
            "  [1. 1. 1.]]\n",
            "\n",
            " [[1. 1. 1.]\n",
            "  [1. 1. 1.]]]\n",
            "<class 'numpy.ndarray'>\n",
            "(2, 2, 3)\n"
          ]
        }
      ]
    },
    {
      "cell_type": "markdown",
      "source": [
        "ones함수는 1로 채워진 array를 생성하는 함수.\n",
        "2층짜리 2행 3열의 행렬 원소를 모두 1로 채운 행렬이 생성됨"
      ],
      "metadata": {
        "id": "2IFPk7IT3_Us"
      }
    },
    {
      "cell_type": "code",
      "metadata": {
        "id": "b_F-ccY08zzl",
        "colab": {
          "base_uri": "https://localhost:8080/"
        },
        "outputId": "d56dd759-bbd1-48d5-d208-4a2084fe1cec"
      },
      "source": [
        "x = np.zeros([2, 2, 3])\n",
        "print(x)\n",
        "print(type(x))\n",
        "print(x.shape)\n",
        "x.reshape(3,2,2)"
      ],
      "execution_count": null,
      "outputs": [
        {
          "output_type": "stream",
          "name": "stdout",
          "text": [
            "[[[0. 0. 0.]\n",
            "  [0. 0. 0.]]\n",
            "\n",
            " [[0. 0. 0.]\n",
            "  [0. 0. 0.]]]\n",
            "<class 'numpy.ndarray'>\n",
            "(2, 2, 3)\n"
          ]
        },
        {
          "output_type": "execute_result",
          "data": {
            "text/plain": [
              "array([[[0., 0.],\n",
              "        [0., 0.]],\n",
              "\n",
              "       [[0., 0.],\n",
              "        [0., 0.]],\n",
              "\n",
              "       [[0., 0.],\n",
              "        [0., 0.]]])"
            ]
          },
          "metadata": {},
          "execution_count": 27
        }
      ]
    },
    {
      "cell_type": "markdown",
      "metadata": {
        "id": "0hQuDJ5g9gpE"
      },
      "source": [
        "### create random numbers"
      ]
    },
    {
      "cell_type": "code",
      "source": [
        "np.random.normal(0, 1, [2,3,4])"
      ],
      "metadata": {
        "id": "pCVnElBgan70",
        "outputId": "b06de733-6380-4b28-870b-61ddb453ad8a",
        "colab": {
          "base_uri": "https://localhost:8080/"
        }
      },
      "execution_count": null,
      "outputs": [
        {
          "output_type": "execute_result",
          "data": {
            "text/plain": [
              "array([[[ 0.28610219, -0.7264868 , -0.50719279,  1.04473795],\n",
              "        [-2.6269445 ,  0.80373735, -3.94639222, -0.11259909],\n",
              "        [-0.271832  , -1.03545502, -0.11481238, -0.80041025]],\n",
              "\n",
              "       [[-0.94959226,  1.11390672, -0.47629241, -1.43499953],\n",
              "        [ 1.01427831,  0.93052177, -0.51619177,  1.99354224],\n",
              "        [-0.68265827,  0.97492243, -0.33173391,  0.0293543 ]]])"
            ]
          },
          "metadata": {},
          "execution_count": 5
        }
      ]
    },
    {
      "cell_type": "markdown",
      "source": [
        "mean = 0, sd =1 normal distribution 구조에서 [2,3,4]의 array를 만드는 함수. 원소는 모두 random."
      ],
      "metadata": {
        "id": "Rq_KXoNH4nYK"
      }
    },
    {
      "cell_type": "code",
      "metadata": {
        "id": "QRatmkx79otL"
      },
      "source": [
        "import matplotlib.pyplot as plt"
      ],
      "execution_count": 8,
      "outputs": []
    },
    {
      "cell_type": "code",
      "metadata": {
        "id": "z1oOAB6dShBD",
        "colab": {
          "base_uri": "https://localhost:8080/",
          "height": 669
        },
        "outputId": "9e3c3e25-fd6f-44bd-d57e-a78d9e270ce0"
      },
      "source": [
        "x = np.random.normal(0, 1, 100)\n",
        "print(x)\n",
        "plt.hist(x, bins=10)"
      ],
      "execution_count": 9,
      "outputs": [
        {
          "output_type": "stream",
          "name": "stdout",
          "text": [
            "[-0.4747335   1.30323998  1.29741729  1.49867339 -0.33264971  1.10670958\n",
            "  0.73866534  0.57686918  0.67460925  1.21733311  0.02832204  0.38760361\n",
            " -0.70645403 -0.80249697 -0.04256121  1.05144568  0.28176387  1.14055144\n",
            "  0.81884178 -0.58867117  0.48302727  0.21896417  1.78351653  0.56366963\n",
            "  0.66720506 -0.54452755 -1.25498381 -1.21006045  0.26893816 -0.26144704\n",
            " -0.19938531 -1.48303881 -1.01014951  0.4176032  -1.512621    0.53247569\n",
            " -0.26657469 -1.6004213   1.14568226  0.38109461  0.38281554 -1.44128494\n",
            " -0.60934263  0.14568885  0.909278   -0.88821858  0.86257863 -0.47534157\n",
            " -0.30698934 -1.53129623  1.40029197 -0.582757   -0.83850377 -1.43787206\n",
            " -1.27830833 -1.47662291  1.20409174 -0.41711796 -0.3548852   0.49948295\n",
            "  0.63990441  0.94511673 -0.87699155  1.93488562  0.69070649  0.34763261\n",
            "  1.66123699 -0.66808743 -1.9817472   0.81590131 -1.61714688  0.61074282\n",
            " -0.84196766  0.49735585 -0.33468894  1.48243844 -1.74168558  1.38683202\n",
            "  0.22069897  0.36157053 -0.5439988   0.04066277 -0.74374855 -0.86188184\n",
            "  0.76271725 -0.07884666  0.12928165 -0.70323854  0.76119304 -0.42278298\n",
            " -2.06928462  1.56183238 -0.6702079  -0.99695197  0.03821265 -1.27587189\n",
            "  1.05631311  0.63841076 -0.77577982  1.57858238]\n"
          ]
        },
        {
          "output_type": "execute_result",
          "data": {
            "text/plain": [
              "(array([ 3., 10.,  6., 17., 10., 10., 18., 11., 10.,  5.]),\n",
              " array([-2.06928462, -1.66886759, -1.26845057, -0.86803354, -0.46761652,\n",
              "        -0.0671995 ,  0.33321753,  0.73363455,  1.13405157,  1.5344686 ,\n",
              "         1.93488562]),\n",
              " <a list of 10 Patch objects>)"
            ]
          },
          "metadata": {},
          "execution_count": 9
        },
        {
          "output_type": "display_data",
          "data": {
            "text/plain": [
              "<Figure size 432x288 with 1 Axes>"
            ],
            "image/png": "[encoded data removed]"
          },
          "metadata": {
            "needs_background": "light"
          }
        }
      ]
    },
    {
      "cell_type": "markdown",
      "source": [
        "np.random.normal(0, 1, [2,3,4])과 비교해서 생각\n",
        "여기서는 array가 주어지지 않았으니 1차원의 array로 추출하되 100개의 원소를 추출.\n",
        "\n",
        "plt.hist(x, bins =10) : bins는 히스토그램의 작대기 개수\n",
        "\n"
      ],
      "metadata": {
        "id": "YkL-kvnP5L5t"
      }
    },
    {
      "cell_type": "markdown",
      "metadata": {
        "id": "G0exvwBbShBE"
      },
      "source": [
        "### generate a sine curve"
      ]
    },
    {
      "cell_type": "code",
      "metadata": {
        "id": "HgQmRXzMShBE",
        "colab": {
          "base_uri": "https://localhost:8080/",
          "height": 283
        },
        "outputId": "bb22e4d5-3b92-4d8d-b07d-7ccbfe1991fe"
      },
      "source": [
        "plt.figure()\n",
        "\n",
        "theta1 = np.linspace(0, 2*np.pi, 100)\n",
        "s1 = np.sin(theta1)\n",
        "theta2 = np.linspace(0, 2*np.pi, 100) + np.pi/2\n",
        "s2 = np.sin(theta2)\n",
        "\n",
        "\n",
        "plt.subplot(2, 1, 1) # (rows, columns, panel number)\n",
        "plt.plot(theta1, s1, '.')\n",
        "plt.subplot(2, 1, 2) # (rows, columns, panel number)\n",
        "plt.plot(theta2, s2, '.')"
      ],
      "execution_count": 10,
      "outputs": [
        {
          "output_type": "execute_result",
          "data": {
            "text/plain": [
              "[<matplotlib.lines.Line2D at 0x7f55c3dd7ad0>]"
            ]
          },
          "metadata": {},
          "execution_count": 10
        },
        {
          "output_type": "display_data",
          "data": {
            "text/plain": [
              "<Figure size 432x288 with 2 Axes>"
            ],
            "image/png": "[encoded data removed]"
          },
          "metadata": {
            "needs_background": "light"
          }
        }
      ]
    },
    {
      "cell_type": "markdown",
      "source": [
        "시험문제: theta1에 있는 원소의 개수는 몇개인가? -> 100개\n",
        "\n",
        "s1에 있는 숫자의 개수는 몇개인가 -> 100개\n",
        "\n",
        "subplot은 그래프를 시각화할 때 화면을 몇 등분하여 보여주는에 대한 함수. 즉 (2,1)이면 화면을 2*1로 쪼개서 2개의 그래프를 보여주겠다는 뜻. 즉 plot를 sub로 보여주겠다\n",
        "\n",
        "\n",
        "panel number는 각각 1번 그래프, 2번 그래프를 의미.\n",
        "\n",
        "plt.plot(theta1, s1, '.')에서 '.'은 그냥 선을 어떻게 그리는지에 대한 argument"
      ],
      "metadata": {
        "id": "8tq1eo2467uz"
      }
    },
    {
      "cell_type": "code",
      "metadata": {
        "id": "TuH489v9BvQ7",
        "colab": {
          "base_uri": "https://localhost:8080/"
        },
        "outputId": "80f021a2-50ec-4eb5-aed7-4faf9a306496"
      },
      "source": [
        "np.corrcoef(s1,s2)"
      ],
      "execution_count": null,
      "outputs": [
        {
          "output_type": "execute_result",
          "data": {
            "text/plain": [
              "array([[1.00000000e+00, 2.41915449e-17],\n",
              "       [2.41915449e-17, 1.00000000e+00]])"
            ]
          },
          "metadata": {},
          "execution_count": 11
        }
      ]
    },
    {
      "cell_type": "markdown",
      "source": [
        "corrcoef : correlation coefficient 함수\n",
        "s1과 s2 사이의 상관계수\n",
        "\n",
        "결과값에서 첫 값과 마지막 값은 보지말고\n",
        "\n",
        "중간값 2개를 보면 같은 수.\n",
        "2.410xx * 10^-17 = 사실상 0\n",
        "\n",
        "즉 상관계수가 거의 0이므로 s1과 s2는 전혀 관련이 없음.\n",
        "상관계수가 -1이면 역방향, 1이면 정방향, 0 이면 무관한 관계\n",
        "\n"
      ],
      "metadata": {
        "id": "4RDHhFm-9J-N"
      }
    }
  ]
}
