{
  "nbformat": 4,
  "nbformat_minor": 0,
  "metadata": {
    "kernelspec": {
      "display_name": "Python 3",
      "language": "python",
      "name": "python3"
    },
    "language_info": {
      "codemirror_mode": {
        "name": "ipython",
        "version": 3
      },
      "file_extension": ".py",
      "mimetype": "text/x-python",
      "name": "python",
      "nbconvert_exporter": "python",
      "pygments_lexer": "ipython3",
      "version": "3.7.1"
    },
    "colab": {
      "name": "numpy_matplotlib.ipynb의 사본",
      "provenance": [],
      "include_colab_link": true
    }
  },
  "cells": [
    {
      "cell_type": "markdown",
      "metadata": {
        "id": "view-in-github",
        "colab_type": "text"
      },
      "source": [
        "<a href=\"https://colab.research.google.com/github/KSG722/class2022Spring/blob/main/numpy_matplotlib.ipynb\" target=\"_parent\"><img src=\"https://colab.research.google.com/assets/colab-badge.svg\" alt=\"Open In Colab\"/></a>"
      ]
    },
    {
      "cell_type": "markdown",
      "metadata": {
        "id": "JcCdLoe_4bY7"
      },
      "source": [
        "### create nd arrays (≈matrices)"
      ]
    },
    {
      "cell_type": "markdown",
      "source": [
        "nd arrays : n- dimensional array\n",
        "\n",
        "행렬은 주로 2 dimensional array"
      ],
      "metadata": {
        "id": "7j14lNE01Msf"
      }
    },
    {
      "cell_type": "code",
      "metadata": {
        "id": "5ap7xyofShBB"
      },
      "source": [
        "import numpy as np"
      ],
      "execution_count": null,
      "outputs": []
    },
    {
      "cell_type": "code",
      "metadata": {
        "id": "2rqpSPZCShBC",
        "colab": {
          "base_uri": "https://localhost:8080/"
        },
        "outputId": "8a4d14a6-b816-432a-caae-902c8c640f33"
      },
      "source": [
        "x = np.array([1,2,3])\n",
        "print(x)\n",
        "print(type(x))\n",
        "print(x.shape)"
      ],
      "execution_count": null,
      "outputs": [
        {
          "output_type": "stream",
          "name": "stdout",
          "text": [
            "[1 2 3]\n",
            "<class 'numpy.ndarray'>\n",
            "(3,)\n"
          ]
        }
      ]
    },
    {
      "cell_type": "markdown",
      "source": [
        "x= np.array([1,2,3]) : [1,2,3]이라는 list를 array로 정의\n",
        "\n",
        "print(x.shapte) : (3,) <- 1-dimensional array라서 (3,)으로 나옴"
      ],
      "metadata": {
        "id": "XNVYCXwu1wxj"
      }
    },
    {
      "cell_type": "code",
      "metadata": {
        "id": "EjC88C75ShBC",
        "colab": {
          "base_uri": "https://localhost:8080/"
        },
        "outputId": "7143e4dd-2864-4b57-855e-56eb92a6bd75"
      },
      "source": [
        "x = np.arange(0,10,2)\n",
        "print(x)\n",
        "print(type(x))\n",
        "print(x.shape)"
      ],
      "execution_count": null,
      "outputs": [
        {
          "output_type": "stream",
          "name": "stdout",
          "text": [
            "[0 2 4 6 8]\n",
            "<class 'numpy.ndarray'>\n",
            "(5,)\n"
          ]
        }
      ]
    },
    {
      "cell_type": "markdown",
      "source": [
        "arange함수 : 0부터 10까지를 2 단위로 쪼개서 배열하라. 조심해야 할 점은 10은 제외.\n",
        "\n",
        "print(x.shape) : 역시나 1차원 arrary라서 (5,)로 나옴\n",
        "\n"
      ],
      "metadata": {
        "id": "T1cVMzo_2J_7"
      }
    },
    {
      "cell_type": "code",
      "metadata": {
        "id": "-MwkCEjTShBC",
        "colab": {
          "base_uri": "https://localhost:8080/"
        },
        "outputId": "11427674-886c-4f82-ca48-a1465f53223e"
      },
      "source": [
        "x = np.linspace(0,10,6)\n",
        "print(x)\n",
        "print(type(x))\n",
        "print(x.shape)"
      ],
      "execution_count": null,
      "outputs": [
        {
          "output_type": "stream",
          "name": "stdout",
          "text": [
            "[ 0.  2.  4.  6.  8. 10.]\n",
            "<class 'numpy.ndarray'>\n",
            "(6,)\n"
          ]
        }
      ]
    },
    {
      "cell_type": "markdown",
      "source": [
        "linspace 함수 : 0부터 10까지 6개의 원소로 등분(linear하게 space로 쪼개)하라. 이 때 조심해야 할 점은 10이 포함이라는 것!!"
      ],
      "metadata": {
        "id": "iUUTVgph2lfh"
      }
    },
    {
      "cell_type": "code",
      "metadata": {
        "id": "tjk79SQ27fNv",
        "colab": {
          "base_uri": "https://localhost:8080/"
        },
        "outputId": "3ff3368b-6bb1-4664-933e-8504613780b1"
      },
      "source": [
        "x = np.array([[1,2,3], [4,5,6]])\n",
        "print(x)\n",
        "print(type(x))\n",
        "print(x.shape)"
      ],
      "execution_count": null,
      "outputs": [
        {
          "output_type": "stream",
          "name": "stdout",
          "text": [
            "[[1 2 3]\n",
            " [4 5 6]]\n",
            "<class 'numpy.ndarray'>\n",
            "(2, 3)\n"
          ]
        }
      ]
    },
    {
      "cell_type": "markdown",
      "source": [
        "여기서는 2차원의 행렬이 등장\n",
        "\n"
      ],
      "metadata": {
        "id": "VXRY4zMO2xru"
      }
    },
    {
      "cell_type": "code",
      "metadata": {
        "id": "C1ogg6iZ7yir",
        "colab": {
          "base_uri": "https://localhost:8080/"
        },
        "outputId": "baf27f4e-10a7-40bb-82f4-bf470d8de90c"
      },
      "source": [
        "x = np.array([[[1,2,3], [4,5,6]], [[7,8,9], [10,11,12]]])\n",
        "print(x)\n",
        "print(type(x))\n",
        "print(x.shape)"
      ],
      "execution_count": null,
      "outputs": [
        {
          "output_type": "stream",
          "name": "stdout",
          "text": [
            "[[[ 1  2  3]\n",
            "  [ 4  5  6]]\n",
            "\n",
            " [[ 7  8  9]\n",
            "  [10 11 12]]]\n",
            "<class 'numpy.ndarray'>\n",
            "(2, 2, 3)\n"
          ]
        }
      ]
    },
    {
      "cell_type": "markdown",
      "source": [
        "3차원 행렬 등장"
      ],
      "metadata": {
        "id": "2BKZOLpJ3goC"
      }
    },
    {
      "cell_type": "code",
      "metadata": {
        "id": "efgeNHtD8ZlT",
        "colab": {
          "base_uri": "https://localhost:8080/"
        },
        "outputId": "047fb9dd-8c90-4dbf-9f12-35123bed1052"
      },
      "source": [
        "x = np.ones([2, 2, 3])\n",
        "print(x)\n",
        "print(type(x))\n",
        "print(x.shape)"
      ],
      "execution_count": null,
      "outputs": [
        {
          "output_type": "stream",
          "name": "stdout",
          "text": [
            "[[[1. 1. 1.]\n",
            "  [1. 1. 1.]]\n",
            "\n",
            " [[1. 1. 1.]\n",
            "  [1. 1. 1.]]]\n",
            "<class 'numpy.ndarray'>\n",
            "(2, 2, 3)\n"
          ]
        }
      ]
    },
    {
      "cell_type": "markdown",
      "source": [
        "ones함수는 1로 채워진 array를 생성하는 함수.\n",
        "2층짜리 2행 3열의 행렬 원소를 모두 1로 채운 행렬이 생성됨"
      ],
      "metadata": {
        "id": "2IFPk7IT3_Us"
      }
    },
    {
      "cell_type": "code",
      "metadata": {
        "id": "b_F-ccY08zzl",
        "colab": {
          "base_uri": "https://localhost:8080/"
        },
        "outputId": "d56dd759-bbd1-48d5-d208-4a2084fe1cec"
      },
      "source": [
        "x = np.zeros([2, 2, 3])\n",
        "print(x)\n",
        "print(type(x))\n",
        "print(x.shape)\n",
        "x.reshape(3,2,2)"
      ],
      "execution_count": null,
      "outputs": [
        {
          "output_type": "stream",
          "name": "stdout",
          "text": [
            "[[[0. 0. 0.]\n",
            "  [0. 0. 0.]]\n",
            "\n",
            " [[0. 0. 0.]\n",
            "  [0. 0. 0.]]]\n",
            "<class 'numpy.ndarray'>\n",
            "(2, 2, 3)\n"
          ]
        },
        {
          "output_type": "execute_result",
          "data": {
            "text/plain": [
              "array([[[0., 0.],\n",
              "        [0., 0.]],\n",
              "\n",
              "       [[0., 0.],\n",
              "        [0., 0.]],\n",
              "\n",
              "       [[0., 0.],\n",
              "        [0., 0.]]])"
            ]
          },
          "metadata": {},
          "execution_count": 27
        }
      ]
    },
    {
      "cell_type": "markdown",
      "metadata": {
        "id": "0hQuDJ5g9gpE"
      },
      "source": [
        "### create random numbers"
      ]
    },
    {
      "cell_type": "code",
      "source": [
        "np.random.normal(0, 1, [2,3,4])"
      ],
      "metadata": {
        "id": "pCVnElBgan70",
        "outputId": "b06de733-6380-4b28-870b-61ddb453ad8a",
        "colab": {
          "base_uri": "https://localhost:8080/"
        }
      },
      "execution_count": null,
      "outputs": [
        {
          "output_type": "execute_result",
          "data": {
            "text/plain": [
              "array([[[ 0.28610219, -0.7264868 , -0.50719279,  1.04473795],\n",
              "        [-2.6269445 ,  0.80373735, -3.94639222, -0.11259909],\n",
              "        [-0.271832  , -1.03545502, -0.11481238, -0.80041025]],\n",
              "\n",
              "       [[-0.94959226,  1.11390672, -0.47629241, -1.43499953],\n",
              "        [ 1.01427831,  0.93052177, -0.51619177,  1.99354224],\n",
              "        [-0.68265827,  0.97492243, -0.33173391,  0.0293543 ]]])"
            ]
          },
          "metadata": {},
          "execution_count": 5
        }
      ]
    },
    {
      "cell_type": "markdown",
      "source": [
        "mean = 0, sd =1 normal distribution 구조에서 [2,3,4]의 array를 만드는 함수. 원소는 모두 random."
      ],
      "metadata": {
        "id": "Rq_KXoNH4nYK"
      }
    },
    {
      "cell_type": "code",
      "metadata": {
        "id": "QRatmkx79otL"
      },
      "source": [
        "import matplotlib.pyplot as plt"
      ],
      "execution_count": null,
      "outputs": []
    },
    {
      "cell_type": "code",
      "metadata": {
        "id": "z1oOAB6dShBD",
        "colab": {
          "base_uri": "https://localhost:8080/",
          "height": 775
        },
        "outputId": "db329362-279b-4166-f67a-c2d40d28a0a5"
      },
      "source": [
        "x = np.random.normal(0, 1, 100)\n",
        "print(x)\n",
        "plt.hist(x, bins=10)"
      ],
      "execution_count": null,
      "outputs": [
        {
          "output_type": "stream",
          "name": "stdout",
          "text": [
            "[-1.30410375e+00  2.81304056e-01 -6.68872336e-01 -1.64063589e-01\n",
            " -1.22158374e+00 -1.04653440e+00 -1.60460987e-01  7.24631153e-01\n",
            "  1.66127871e-01 -7.27988751e-01  1.63277291e-01  5.09236054e-01\n",
            " -1.98943416e-01 -1.46600112e+00  3.33479774e-01  1.60454386e-02\n",
            " -8.55730740e-02 -5.11190740e-01 -1.08187184e+00 -1.81470665e+00\n",
            "  9.02654879e-01  2.61542981e+00 -9.61451307e-01 -3.76245505e-01\n",
            "  1.10573440e+00 -2.90233466e-01  9.83471186e-01 -9.17783309e-01\n",
            " -6.85692679e-01  6.80350119e-01  3.02418935e-01 -6.67165338e-01\n",
            " -1.13758564e+00  5.51581315e-01  4.08377252e-01  2.41734447e-01\n",
            " -5.31870253e-01  2.46012558e+00  6.24542625e-02  3.04243491e+00\n",
            "  1.75779308e+00  1.52166416e+00  1.23817111e+00 -7.97803951e-01\n",
            "  3.90696889e-01 -6.19225451e-01  1.42304945e+00 -1.28138928e+00\n",
            "  1.05451851e+00  2.99641058e-01 -7.78909324e-01  2.55184996e-01\n",
            "  1.04213387e+00  4.01985262e+00  4.10956638e-02  9.72650554e-01\n",
            "  4.38663065e-01 -1.24154905e+00  4.68534855e-01  6.32756145e-01\n",
            "  8.42972324e-01 -1.69977165e+00  2.21320141e+00 -9.63472499e-01\n",
            "  6.40706441e-01  1.74025374e+00 -1.57992412e-01 -2.12527110e+00\n",
            " -3.41463121e-01 -5.23844235e-01  5.30544156e-01 -5.80984627e-01\n",
            "  3.95706884e-03 -1.23409175e+00 -6.23110796e-01  8.33769043e-01\n",
            " -1.39568461e+00 -2.23386940e-01  5.97831290e-01 -8.15726743e-02\n",
            "  1.36391643e-01 -6.62688401e-01  4.45915336e-01 -8.10861118e-01\n",
            " -2.91582565e-01  7.36019302e-01  1.59291496e+00 -8.13765805e-01\n",
            " -1.15831445e+00 -3.46717461e-01  5.96119975e-01 -1.09709991e+00\n",
            "  1.25127130e+00 -1.88386233e-01  1.79404880e+00  3.97428197e-01\n",
            "  2.39494165e-01  4.14585331e-01  5.97507814e-01 -3.59018225e-01]\n"
          ]
        },
        {
          "output_type": "execute_result",
          "data": {
            "text/plain": [
              "(array([ 3., 15., 21., 21., 22.,  9.,  4.,  3.,  1.,  1.]),\n",
              " array([-2.1252711 , -1.51075872, -0.89624635, -0.28173398,  0.33277839,\n",
              "         0.94729076,  1.56180314,  2.17631551,  2.79082788,  3.40534025,\n",
              "         4.01985262]),\n",
              " <a list of 10 Patch objects>)"
            ]
          },
          "metadata": {},
          "execution_count": 33
        },
        {
          "output_type": "display_data",
          "data": {
            "image/png": "[encoded data removed]",
            "text/plain": [
              "<Figure size 432x288 with 1 Axes>"
            ]
          },
          "metadata": {
            "needs_background": "light"
          }
        }
      ]
    },
    {
      "cell_type": "markdown",
      "source": [
        "np.random.normal(0, 1, [2,3,4])과 비교해서 생각\n",
        "여기서는 array가 주어지지 않았으니 1차원의 array로 추출하되 100개의 원소를 추출.\n",
        "\n",
        "plt.hist(x, bins =10) : bins는 히스토그램의 작대기 개수\n",
        "\n"
      ],
      "metadata": {
        "id": "YkL-kvnP5L5t"
      }
    },
    {
      "cell_type": "markdown",
      "source": [
        ""
      ],
      "metadata": {
        "id": "SXEUSifi5LuW"
      }
    },
    {
      "cell_type": "markdown",
      "metadata": {
        "id": "G0exvwBbShBE"
      },
      "source": [
        "### generate a sine curve"
      ]
    },
    {
      "cell_type": "code",
      "metadata": {
        "id": "HgQmRXzMShBE",
        "colab": {
          "base_uri": "https://localhost:8080/",
          "height": 266
        },
        "outputId": "73b94e6a-b952-4dc9-8ccc-714eb0849006"
      },
      "source": [
        "plt.figure()\n",
        "\n",
        "theta1 = np.linspace(0, 2*np.pi, 100)\n",
        "s1 = np.sin(theta1)\n",
        "theta2 = np.linspace(0, 2*np.pi, 100) + np.pi/2\n",
        "s2 = np.sin(theta2)\n",
        "\n",
        "\n",
        "plt.subplot(2, 1, 1) # (rows, columns, panel number)\n",
        "plt.plot(theta1, s1, '.')\n",
        "plt.subplot(2, 1, 2) # (rows, columns, panel number)\n",
        "plt.plot(theta2, s2, '.')"
      ],
      "execution_count": null,
      "outputs": [
        {
          "output_type": "error",
          "ename": "NameError",
          "evalue": "ignored",
          "traceback": [
            "\u001b[0;31m---------------------------------------------------------------------------\u001b[0m",
            "\u001b[0;31mNameError\u001b[0m                                 Traceback (most recent call last)",
            "\u001b[0;32m<ipython-input-3-c93b897f5e36>\u001b[0m in \u001b[0;36m<module>\u001b[0;34m()\u001b[0m\n\u001b[1;32m      1\u001b[0m \u001b[0mplt\u001b[0m\u001b[0;34m.\u001b[0m\u001b[0mfigure\u001b[0m\u001b[0;34m(\u001b[0m\u001b[0;34m)\u001b[0m\u001b[0;34m\u001b[0m\u001b[0;34m\u001b[0m\u001b[0m\n\u001b[1;32m      2\u001b[0m \u001b[0;34m\u001b[0m\u001b[0m\n\u001b[0;32m----> 3\u001b[0;31m \u001b[0mtheta1\u001b[0m \u001b[0;34m=\u001b[0m \u001b[0mnp\u001b[0m\u001b[0;34m.\u001b[0m\u001b[0mlinspace\u001b[0m\u001b[0;34m(\u001b[0m\u001b[0;36m0\u001b[0m\u001b[0;34m,\u001b[0m \u001b[0;36m2\u001b[0m\u001b[0;34m*\u001b[0m\u001b[0mnp\u001b[0m\u001b[0;34m.\u001b[0m\u001b[0mpi\u001b[0m\u001b[0;34m,\u001b[0m \u001b[0;36m100\u001b[0m\u001b[0;34m)\u001b[0m\u001b[0;34m\u001b[0m\u001b[0;34m\u001b[0m\u001b[0m\n\u001b[0m\u001b[1;32m      4\u001b[0m \u001b[0ms1\u001b[0m \u001b[0;34m=\u001b[0m \u001b[0mnp\u001b[0m\u001b[0;34m.\u001b[0m\u001b[0msin\u001b[0m\u001b[0;34m(\u001b[0m\u001b[0mtheta1\u001b[0m\u001b[0;34m)\u001b[0m\u001b[0;34m\u001b[0m\u001b[0;34m\u001b[0m\u001b[0m\n\u001b[1;32m      5\u001b[0m \u001b[0mtheta2\u001b[0m \u001b[0;34m=\u001b[0m \u001b[0mnp\u001b[0m\u001b[0;34m.\u001b[0m\u001b[0mlinspace\u001b[0m\u001b[0;34m(\u001b[0m\u001b[0;36m0\u001b[0m\u001b[0;34m,\u001b[0m \u001b[0;36m2\u001b[0m\u001b[0;34m*\u001b[0m\u001b[0mnp\u001b[0m\u001b[0;34m.\u001b[0m\u001b[0mpi\u001b[0m\u001b[0;34m,\u001b[0m \u001b[0;36m100\u001b[0m\u001b[0;34m)\u001b[0m \u001b[0;34m+\u001b[0m \u001b[0mnp\u001b[0m\u001b[0;34m.\u001b[0m\u001b[0mpi\u001b[0m\u001b[0;34m/\u001b[0m\u001b[0;36m2\u001b[0m\u001b[0;34m\u001b[0m\u001b[0;34m\u001b[0m\u001b[0m\n",
            "\u001b[0;31mNameError\u001b[0m: name 'np' is not defined"
          ]
        },
        {
          "output_type": "display_data",
          "data": {
            "text/plain": [
              "<Figure size 432x288 with 0 Axes>"
            ]
          },
          "metadata": {}
        }
      ]
    },
    {
      "cell_type": "markdown",
      "source": [
        "시험문제: theta1에 있는 원소의 개수는 몇개인가? -> 100개\n",
        "\n",
        "s1에 있는 숫자의 개수는 몇개인가 -> 100개\n",
        "\n",
        "subplot은 그래프를 시각화할 때 화면을 몇 등분하여 보여주는에 대한 함수. 즉 (2,1)이면 화면을 2*1로 쪼개서 2개의 그래프를 보여주겠다는 뜻. 즉 plot를 sub로 보여주겠다\n",
        "\n",
        "\n",
        "panel number는 각각 1번 그래프, 2번 그래프를 의미.\n",
        "\n",
        "plt.plot(theta1, s1, '.')에서 '.'은 그냥 선을 어떻게 그리는지에 대한 argument"
      ],
      "metadata": {
        "id": "8tq1eo2467uz"
      }
    },
    {
      "cell_type": "code",
      "metadata": {
        "id": "TuH489v9BvQ7",
        "colab": {
          "base_uri": "https://localhost:8080/"
        },
        "outputId": "80f021a2-50ec-4eb5-aed7-4faf9a306496"
      },
      "source": [
        "np.corrcoef(s1,s2)"
      ],
      "execution_count": null,
      "outputs": [
        {
          "output_type": "execute_result",
          "data": {
            "text/plain": [
              "array([[1.00000000e+00, 2.41915449e-17],\n",
              "       [2.41915449e-17, 1.00000000e+00]])"
            ]
          },
          "metadata": {},
          "execution_count": 11
        }
      ]
    },
    {
      "cell_type": "markdown",
      "source": [
        "corrcoef : correlation coefficient 함수\n",
        "s1과 s2 사이의 상관계수\n",
        "\n",
        "결과값에서 첫 값과 마지막 값은 보지말고\n",
        "\n",
        "중간값 2개를 보면 같은 수.\n",
        "2.410xx * 10^-17 = 사실상 0\n",
        "\n",
        "즉 상관계수가 거의 0이므로 s1과 s2는 전혀 관련이 없음.\n",
        "상관계수가 -1이면 역방향, 1이면 정방향, 0 이면 무관한 관계\n",
        "\n"
      ],
      "metadata": {
        "id": "4RDHhFm-9J-N"
      }
    }
  ]
}