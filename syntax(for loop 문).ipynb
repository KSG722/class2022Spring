{
  "nbformat": 4,
  "nbformat_minor": 0,
  "metadata": {
    "kernelspec": {
      "display_name": "Python 3",
      "language": "python",
      "name": "python3"
    },
    "language_info": {
      "codemirror_mode": {
        "name": "ipython",
        "version": 3
      },
      "file_extension": ".py",
      "mimetype": "text/x-python",
      "name": "python",
      "nbconvert_exporter": "python",
      "pygments_lexer": "ipython3",
      "version": "3.7.1"
    },
    "colab": {
      "name": "syntax.ipynb의 사본",
      "provenance": [],
      "include_colab_link": true
    }
  },
  "cells": [
    {
      "cell_type": "markdown",
      "metadata": {
        "id": "view-in-github",
        "colab_type": "text"
      },
      "source": [
        "<a href=\"https://colab.research.google.com/github/KSG722/class2022Spring/blob/main/syntax.ipynb\" target=\"_parent\"><img src=\"https://colab.research.google.com/assets/colab-badge.svg\" alt=\"Open In Colab\"/></a>"
      ]
    },
    {
      "cell_type": "code",
      "metadata": {
        "id": "Fu2mzgrqSLAU",
        "outputId": "283876b5-0fc9-4961-d92d-d242b3c222de"
      },
      "source": [
        "a = [1, 2, 3, 4]\n",
        "for i in a:\n",
        "    print(i)"
      ],
      "execution_count": null,
      "outputs": [
        {
          "output_type": "stream",
          "text": [
            "1\n",
            "2\n",
            "3\n",
            "4\n"
          ],
          "name": "stdout"
        }
      ]
    },
    {
      "cell_type": "markdown",
      "source": [
        "기본형\n",
        "for i in a :\n",
        "\n",
        "a에 있는 것들을 i에게 하나하나씩 주면서 돌린다는 의미. 이러한 구문을 for loop 구문이라고 부름.\n",
        "\n",
        "참고로 a는 4개였으므로 i가 1,2,3,4를 차례로 받아서 총 4번 출력. 1,2,3,4가 각각 하나씩 출력."
      ],
      "metadata": {
        "id": "sF5UqCOKmbCn"
      }
    },
    {
      "cell_type": "code",
      "metadata": {
        "id": "XSJxLJVCSLAW",
        "outputId": "fb3aa284-e479-402c-b556-7a26a6bf9186",
        "colab": {
          "base_uri": "https://localhost:8080/"
        }
      },
      "source": [
        "a = [1, 2, 3, 4]\n",
        "for i in range(len(a)):\n",
        "    print(a[i])"
      ],
      "execution_count": null,
      "outputs": [
        {
          "output_type": "stream",
          "name": "stdout",
          "text": [
            "1\n",
            "2\n",
            "3\n",
            "4\n"
          ]
        }
      ]
    },
    {
      "cell_type": "markdown",
      "source": [
        "len(a) = 4\n",
        "range(4)의 의미 : [0, 1, 2, 3]이라는 4개의 원소로 이루어진 list를 생성\n",
        "따라서 for i in range(4)에서는 i에 0,1,2,3을 차례로 넣음\n",
        "\n",
        "a[0] = 1\n",
        "a[1] = 2\n",
        "a[2] = 3\n",
        "a[3] = 4"
      ],
      "metadata": {
        "id": "i1h6ivs_nGQr"
      }
    },
    {
      "cell_type": "code",
      "metadata": {
        "id": "VTfxVRdgSLAW",
        "outputId": "7b430ba8-015e-4296-c883-ce2b3f9ed43b"
      },
      "source": [
        "a = ['red', 'green', 'blue', 'purple']\n",
        "for i in a:\n",
        "    print(i)"
      ],
      "execution_count": null,
      "outputs": [
        {
          "output_type": "stream",
          "text": [
            "red\n",
            "green\n",
            "blue\n",
            "purple\n"
          ],
          "name": "stdout"
        }
      ]
    },
    {
      "cell_type": "markdown",
      "source": [
        "상동"
      ],
      "metadata": {
        "id": "CVI1-RJMosAd"
      }
    },
    {
      "cell_type": "code",
      "metadata": {
        "id": "Vc-7pW85SLAW",
        "outputId": "9394e177-c8c8-44db-ff28-1e9566072bb3"
      },
      "source": [
        "a = ['red', 'green', 'blue', 'purple']\n",
        "for i in range(len(a)):\n",
        "    print(a[i])"
      ],
      "execution_count": null,
      "outputs": [
        {
          "output_type": "stream",
          "text": [
            "red\n",
            "green\n",
            "blue\n",
            "purple\n"
          ],
          "name": "stdout"
        }
      ]
    },
    {
      "cell_type": "markdown",
      "source": [
        "상동"
      ],
      "metadata": {
        "id": "gZ8cgKEDoppx"
      }
    },
    {
      "cell_type": "code",
      "metadata": {
        "id": "dD-ephD3SLAX",
        "outputId": "69d729f8-996a-41be-d84b-f1bd2a7c809c"
      },
      "source": [
        "a = 0\n",
        "if a == 0:\n",
        "    print(a)\n",
        "else:\n",
        "    print(a+1)"
      ],
      "execution_count": null,
      "outputs": [
        {
          "output_type": "stream",
          "text": [
            "0\n"
          ],
          "name": "stdout"
        }
      ]
    },
    {
      "cell_type": "markdown",
      "source": [
        "=는 a에 0을 assign한다는 의미.\n",
        "==이 equal의 의미\n",
        "\n",
        "if a == 0:\n",
        "  print(a)\n",
        "의 의미 : a가 0이라면 print(a)를 하라는 의미\n",
        "\n",
        "else:\n",
        "  print(a+1)\n",
        "의 의미 : 그렇지 않다면(a가 0이 아니라면)  a+1을 출력\n",
        "\n",
        "참고로 처음부터 a가 0이 아니라면에 해당하는 함수를 만들고 싶다면\n",
        "if a != 0 이라고 쓰면됨.\n",
        "\n",
        "!= 가 not equal의 의미"
      ],
      "metadata": {
        "id": "5u66cXn8ourI"
      }
    },
    {
      "cell_type": "code",
      "metadata": {
        "id": "M0AZaDMvSLAY",
        "outputId": "b25a5fe6-defa-4549-85b0-0c146ff7a2a0"
      },
      "source": [
        "for i in range(1, 3):\n",
        "    for j in range(3, 5):\n",
        "        print(i*j)"
      ],
      "execution_count": null,
      "outputs": [
        {
          "output_type": "stream",
          "text": [
            "3\n",
            "4\n",
            "6\n",
            "8\n"
          ],
          "name": "stdout"
        }
      ]
    },
    {
      "cell_type": "markdown",
      "source": [
        "시험문제 나오기 너무 좋은 파트.\n",
        "\n",
        "range(1, 3)은 1부터 3 이전까지(3은 제외)의 list를 만들라는 의미\n",
        "range(4) -> [0,1,2,3]\n",
        "range(1, 3) -> [1,2]\n",
        "\n",
        "따라서 위 함수를 쉽게 만들면\n",
        "for i in [1,2]\n",
        "  for j in [3,4]\n",
        "    print(i*j)\n",
        "\n",
        "즉 i에 1,2를 차례로 넣고 j에 3,4를 차례로 넣고 이 때 각각을 곱해서 출력. 참고로 총 4개(원소가 각각 2개이므로)의 결과값이 출력. 1에 차례로 3,4를 곱하고 이후 2에 차례로 3,4를 곱함."
      ],
      "metadata": {
        "id": "de-K_KNappAf"
      }
    },
    {
      "cell_type": "code",
      "metadata": {
        "id": "ZPpZmVIHSLAY",
        "outputId": "0bbcc529-c1d8-4774-e1ad-9de8b9e065ce"
      },
      "source": [
        "for i in range(1, 3):\n",
        "    for j in range(3, 5):\n",
        "        if j >=4:\n",
        "            print(i*j)"
      ],
      "execution_count": null,
      "outputs": [
        {
          "output_type": "stream",
          "text": [
            "4\n",
            "8\n"
          ],
          "name": "stdout"
        }
      ]
    },
    {
      "cell_type": "markdown",
      "source": [
        "for i in [1,2]:\n",
        "  for j in [3,4]:\n",
        "    if j >=4:\n",
        "      print(i*j)\n",
        "\n",
        "j가 4보다 클때만 곱해서 출력.\n",
        "따라서 i = [1,2]이고 j는 4\n",
        "\n",
        "결과값은 4,8"
      ],
      "metadata": {
        "id": "PW4NAZOWqbO1"
      }
    },
    {
      "cell_type": "code",
      "metadata": {
        "id": "JQXk5vi0SLAY",
        "outputId": "cd3306f3-6d6d-446e-dd4a-f7f4e11dd967"
      },
      "source": [
        "a = [1, 2, 3, 4]\n",
        "b = [i for i in a if i >=2]\n",
        "b"
      ],
      "execution_count": null,
      "outputs": [
        {
          "output_type": "execute_result",
          "data": {
            "text/plain": [
              "[2, 3, 4]"
            ]
          },
          "metadata": {
            "tags": []
          },
          "execution_count": 12
        }
      ]
    },
    {
      "cell_type": "markdown",
      "source": [
        "b = [i for i in a if i >=2] 해석에 유의\n",
        "\n",
        "해석순서\n",
        "1. for i in a : a를 i에 배분\n",
        "2. if i >=2 : i가 2보다 크다면\n",
        "3. i에 넣어라\n",
        "4. 참고로 b가 [ ]안에 묶여있으므로 list로 출력됨."
      ],
      "metadata": {
        "id": "t_PWpgMnrLny"
      }
    },
    {
      "cell_type": "code",
      "metadata": {
        "id": "MDmBGZ3LSLAZ",
        "outputId": "bd06f885-7334-43d9-d92d-848c615f6771"
      },
      "source": [
        "a = ['red', 'green', 'blue', 'purple']\n",
        "b = [i for i in a if len(i) >=4]\n",
        "b"
      ],
      "execution_count": null,
      "outputs": [
        {
          "output_type": "execute_result",
          "data": {
            "text/plain": [
              "['green', 'blue', 'purple']"
            ]
          },
          "metadata": {
            "tags": []
          },
          "execution_count": 13
        }
      ]
    },
    {
      "cell_type": "markdown",
      "source": [
        "상동"
      ],
      "metadata": {
        "id": "vIMT0uKcr68e"
      }
    },
    {
      "cell_type": "code",
      "source": [
        "a = ['red', 'green', 'blue', 'purple']\n",
        "b = [1, 2, 3, 4]\n",
        "c = {a[i]:b[i] for i in range(4)}\n",
        "c"
      ],
      "metadata": {
        "id": "Z6JMoDOHu48B",
        "outputId": "ad750d59-107c-4b58-feba-f5995696e882",
        "colab": {
          "base_uri": "https://localhost:8080/"
        }
      },
      "execution_count": null,
      "outputs": [
        {
          "output_type": "execute_result",
          "data": {
            "text/plain": [
              "{'blue': 3, 'green': 2, 'purple': 4, 'red': 1}"
            ]
          },
          "metadata": {},
          "execution_count": 1
        }
      ]
    },
    {
      "cell_type": "markdown",
      "source": [
        "c에서는 dict 유형의 데이터가 보인다.\n",
        "for i in range(4)에서 i는 [0,1,2,3]이 되고\n",
        "\n",
        "a[0]:b[0]\n",
        "a[1]:b[1]\n",
        "a[2]:b[2]\n",
        "a[3]:b[3] 이렇게 dict가 형성된다.\n",
        "\n",
        "다만 순서는 상관없이 출력됨. 어짜피 pair로 연결된 데이터이기 때문에 순서가 random으로 출력됨."
      ],
      "metadata": {
        "id": "TWWPKFW0r706"
      }
    }
  ]
}
