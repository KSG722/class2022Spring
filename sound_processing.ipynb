{
  "nbformat": 4,
  "nbformat_minor": 0,
  "metadata": {
    "colab": {
      "name": "sound_processing.ipynb",
      "provenance": [],
      "include_colab_link": true
    },
    "kernelspec": {
      "name": "python3",
      "display_name": "Python 3"
    },
    "language_info": {
      "name": "python"
    }
  },
  "cells": [
    {
      "cell_type": "markdown",
      "metadata": {
        "id": "view-in-github",
        "colab_type": "text"
      },
      "source": [
        "<a href=\"https://colab.research.google.com/github/KSG722/class2022Spring/blob/main/sound_processing.ipynb\" target=\"_parent\"><img src=\"https://colab.research.google.com/assets/colab-badge.svg\" alt=\"Open In Colab\"/></a>"
      ]
    },
    {
      "cell_type": "markdown",
      "source": [
        "# Digital Signal Processing\n",
        "> sampling rate(Hz), frequency(Hz), phasor"
      ],
      "metadata": {
        "id": "NhOLUyQcc47r"
      }
    },
    {
      "cell_type": "markdown",
      "source": [
        "analog는 x값이 연속된 그래프라면\n",
        "digital은 분리된 x값이 점점점점...으로 그려진 그래프라고 생각하면 됨.\n",
        "(x축은 time)\n",
        "\n",
        "analog자료가 잇으면 digital로 바꾸어 넣어줘야 컴퓨터가 인식을 한다.\n",
        "\n",
        "그래서 연속된 x값들은 1000등분, 10000등분 갈겨서 잘게 쪼개는데 이를 digitize라고 한다. 이 digitize할 때 n등분을하면 sampling rate = n Hz라고 함.\n",
        "\n",
        "즉 100등분하면 샘플링 rate = 100 Hz\n",
        "\n",
        "x축이 시간이므로 sampling rate이 100hz라는 건\n",
        "1초당 100Hz라는 의미 -> 1초에 100개의 x값의 숫자가 존재한다는 것. 즉 sampling rate랑 초당 몇개의 숫자로 표현이 되느냐.라는 것을 나타내는 것\n",
        "\n",
        "시험문제 ) sampling rate이 10000Hz이고 1.5초의 자료라면 몇개의 숫자? -> 1초당 10000개이므로 1.5초면 15000개의 숫자 존재.\n",
        "\n",
        "frequency로 Hz단위를 씀. 프리퀀시 = 주파수.\n",
        "\n",
        "sine함수를 생각했을 때 한 개의 전체 sine함수가 초당 몇 번 반복하는지가 frequency.\n",
        "왔다갔다 하는게 1초에 몇번 있느냐가 frequency. 1초에 7번 왔다리갔따리하면 7Hz.\n",
        "주파수가 높을 수록 고음. 남자 목소리 평균 주파수가 100hz라면 여자는 200hz.\n",
        "\n",
        "\n",
        "참고로 y축 기준으로 진폭을 amplitude라고하고\n",
        "\n",
        "총 x축 길이(second)를 duration라고 한다.\n",
        "\n",
        "\n",
        "sine함수에서는 smapling rate, frequency, amplitude, duration 4개를 알아야함. 이걸 알면 phasor를 할 수 있음."
      ],
      "metadata": {
        "id": "IkbPLSe0qn99"
      }
    },
    {
      "cell_type": "code",
      "metadata": {
        "id": "2WAs2J9dWcUv"
      },
      "source": [
        "import numpy as np\n",
        "import matplotlib.pyplot as plt\n",
        "import IPython.display as ipd"
      ],
      "execution_count": null,
      "outputs": []
    },
    {
      "cell_type": "markdown",
      "metadata": {
        "id": "d3TfZBr7_pd7"
      },
      "source": [
        "### Phasor (sine)"
      ]
    },
    {
      "cell_type": "markdown",
      "source": [
        "환율 변화, 주가 추이 등의 그래프들은 수많은 sine 곡선들의 합으로 이루어져 있다는 것이 수학자 푸리에의 업적."
      ],
      "metadata": {
        "id": "DJncF3zfttdN"
      }
    },
    {
      "cell_type": "code",
      "metadata": {
        "id": "PiiWF43_WcU2"
      },
      "source": [
        "# parameter setting\n",
        "amp = 1          # range [0.0, 1.0]\n",
        "sr = 10000       # sampling rate, Hz\n",
        "dur = 0.5        # in seconds\n",
        "freq = 100.0     # sine frequency, Hz\n",
        "phase = 0  # phase, radian"
      ],
      "execution_count": null,
      "outputs": []
    },
    {
      "cell_type": "markdown",
      "source": [
        "amplitude = 1 -> 최고점 1, 최저점 -1\n",
        "\n",
        "sr = sampling rate의 준말\n",
        "\n",
        "phase는 사인함수의 시작점의 각도. 레디안\n",
        "\n",
        "이런 설정들을 잡아놓고 이제 sine함수를 맹글어보자"
      ],
      "metadata": {
        "id": "-gMSlTHmurcd"
      }
    },
    {
      "cell_type": "code",
      "metadata": {
        "id": "eog54PdaWcU2"
      },
      "source": [
        "# generate sample ticks\n",
        "nSamp = sr * dur\n",
        "samples = np.arange(1, nSamp+1)"
      ],
      "execution_count": null,
      "outputs": []
    },
    {
      "cell_type": "markdown",
      "source": [
        "sr랑 dur를 곱함으로써 x축을 잡아주자. x축이므로 sample ticks를 만들어주는 것이다. 쉽게 말하자면 x축을 몇개의 tick(블럭)으로 쪼갤 것인가를 말하는 것.\n",
        "tick는 0번,1번,2번,3번,...이렇게 x축을 쪼개는 것. \n",
        "시험문제)참고로 dur = 0.5이고 sr = 10000이므로 x축의 끝값인 0.5에는 5000번째 tick이 위치할 것.\n",
        "\n",
        "결론적으로 nSamp에는 5000개의 sample tick이 위치.\n",
        "\n",
        "\n",
        "samples <- 1부터 (nSamp + 1 - 1)까지의 값이 들어가게 됨. 따라서 1부터 5000."
      ],
      "metadata": {
        "id": "os9FecZuvPil"
      }
    },
    {
      "cell_type": "code",
      "metadata": {
        "id": "qAc8Esm5OlaR"
      },
      "source": [
        "# convert sample to time (sec)\n",
        "t = samples/sr"
      ],
      "execution_count": null,
      "outputs": []
    },
    {
      "cell_type": "markdown",
      "source": [
        "1부터 5000이 들어간 samples값을 sr로 나눔.\n",
        "\n",
        "따라서 1/10000, 2/10000, 3/10000.....5000/10000이라는 값이 t에 들어감\n",
        "\n",
        "이 t는 나중에 x축이 될 것."
      ],
      "metadata": {
        "id": "AjK61lHJwUIg"
      }
    },
    {
      "cell_type": "code",
      "metadata": {
        "id": "RSv5Po5sWcU3"
      },
      "source": [
        "# convert time to angle (radian)\n",
        "theta0 = t * 2*np.pi * freq"
      ],
      "execution_count": null,
      "outputs": []
    },
    {
      "cell_type": "markdown",
      "source": [
        "위에서는 sample tick을 통해 time tick을 형성. 그러나 이는 x축에 대한 정보이므로 sine함수 자체와는 관련x.\n",
        "\n",
        "그러나 sine함수의 angle을 형성해주기 위해서는 radian값과 frequnce 개념이 사용되어야함.\n",
        "\n",
        "일단 t를 2파이와 freq로 곱해주자. 참고로 2파이 * frequence는 사인함수가 얼마나 1초안에 많이 반복되는지를 알려주는 값. 그러나 이게 1초 기준이 아니라 0.5초 기준이므로 위에서 만든 time tick 값을 곱해줌. 그러면 angle tick이 됨.\n",
        "\n",
        "\n",
        "시험문제) samples를 len(samples)=? <- 5000\n",
        "len(t) = ? <- 5000"
      ],
      "metadata": {
        "id": "7hreYToIwyfs"
      }
    },
    {
      "cell_type": "code",
      "metadata": {
        "id": "cesUeSr3OybQ"
      },
      "source": [
        "# shift angle by phase\n",
        "theta = theta0 + phase"
      ],
      "execution_count": null,
      "outputs": []
    },
    {
      "cell_type": "markdown",
      "source": [
        "못들음(40분쯤)"
      ],
      "metadata": {
        "id": "sxdCT1-XyW72"
      }
    },
    {
      "cell_type": "code",
      "metadata": {
        "id": "89hyLs9mWcU3"
      },
      "source": [
        "# generate signal by sin-phasor\n",
        "s = amp * np.sin(theta)"
      ],
      "execution_count": null,
      "outputs": []
    },
    {
      "cell_type": "markdown",
      "source": [
        "못들음"
      ],
      "metadata": {
        "id": "PgvgQ6doyZFq"
      }
    },
    {
      "cell_type": "code",
      "metadata": {
        "id": "VRlMTkzlPMDb"
      },
      "source": [
        "# plot the entire signal\n",
        "plt.plot(t, s, ':')\n",
        "plt.xlabel('time (s)')\n",
        "plt.ylabel('real')"
      ],
      "execution_count": null,
      "outputs": []
    },
    {
      "cell_type": "markdown",
      "source": [
        "5000개의 점들이 있을 것."
      ],
      "metadata": {
        "id": "6o8ehnUmyaXH"
      }
    },
    {
      "cell_type": "code",
      "metadata": {
        "id": "3ADA5DXBWcU3"
      },
      "source": [
        "# plot a certain portion of signals\n",
        "sampleRng = np.arange(0,100)\n",
        "plt.plot(t[sampleRng], s[sampleRng], ':')\n",
        "plt.xlabel('time (s)')\n",
        "plt.ylabel('real')"
      ],
      "execution_count": null,
      "outputs": []
    },
    {
      "cell_type": "markdown",
      "source": [
        "위 그래프에서 잘 안 보이니까 샘플의 첫 100개만 보겠다는 것이 np.arange(0,100)\n",
        "\n"
      ],
      "metadata": {
        "id": "xIxZqjoky1xn"
      }
    },
    {
      "cell_type": "code",
      "metadata": {
        "id": "hVYGTtZ6krh-"
      },
      "source": [
        "ipd.Audio(s, rate=sr)"
      ],
      "execution_count": null,
      "outputs": []
    },
    {
      "cell_type": "markdown",
      "source": [
        "소리화하는 함수. s라는 100hz의 소리가 들린다\n",
        "rate는 sr로 설정해줌."
      ],
      "metadata": {
        "id": "4Sb6otvezRPc"
      }
    },
    {
      "cell_type": "code",
      "metadata": {
        "id": "E2RzJdMYepVH"
      },
      "source": [
        "def phasor_sine(amp, sr, dur, freq, phase):\n",
        "  t = np.arange(1, sr * dur+1)/sr\n",
        "  theta = t * 2*np.pi * freq + phase\n",
        "  s = amp * np.sin(theta)\n",
        "  return s, t, theta"
      ],
      "execution_count": 1,
      "outputs": []
    },
    {
      "cell_type": "markdown",
      "source": [
        "phasor_sine이라는 함수를 통째로 정의해버리기"
      ],
      "metadata": {
        "id": "AY48QPuMz5yf"
      }
    },
    {
      "cell_type": "code",
      "metadata": {
        "id": "KBF1AzEihCvt",
        "outputId": "d30a21ff-c1d9-40d4-d0f2-d1cef3c266c9",
        "colab": {
          "base_uri": "https://localhost:8080/",
          "height": 339
        }
      },
      "source": [
        "amp = 1; sr = 10000; dur = 1; freq = 440; phase = 0\n",
        "s, t, theta = phasor_sine(amp, sr, dur, freq, phase)\n",
        "ipd.Audio(s, rate=sr)"
      ],
      "execution_count": 2,
      "outputs": [
        {
          "output_type": "error",
          "ename": "NameError",
          "evalue": "ignored",
          "traceback": [
            "\u001b[0;31m---------------------------------------------------------------------------\u001b[0m",
            "\u001b[0;31mNameError\u001b[0m                                 Traceback (most recent call last)",
            "\u001b[0;32m<ipython-input-2-79b27c59b3fb>\u001b[0m in \u001b[0;36m<module>\u001b[0;34m()\u001b[0m\n\u001b[1;32m      1\u001b[0m \u001b[0mamp\u001b[0m \u001b[0;34m=\u001b[0m \u001b[0;36m1\u001b[0m\u001b[0;34m;\u001b[0m \u001b[0msr\u001b[0m \u001b[0;34m=\u001b[0m \u001b[0;36m10000\u001b[0m\u001b[0;34m;\u001b[0m \u001b[0mdur\u001b[0m \u001b[0;34m=\u001b[0m \u001b[0;36m1\u001b[0m\u001b[0;34m;\u001b[0m \u001b[0mfreq\u001b[0m \u001b[0;34m=\u001b[0m \u001b[0;36m440\u001b[0m\u001b[0;34m;\u001b[0m \u001b[0mphase\u001b[0m \u001b[0;34m=\u001b[0m \u001b[0;36m0\u001b[0m\u001b[0;34m\u001b[0m\u001b[0;34m\u001b[0m\u001b[0m\n\u001b[0;32m----> 2\u001b[0;31m \u001b[0ms\u001b[0m\u001b[0;34m,\u001b[0m \u001b[0mt\u001b[0m\u001b[0;34m,\u001b[0m \u001b[0mtheta\u001b[0m \u001b[0;34m=\u001b[0m \u001b[0mphasor_sine\u001b[0m\u001b[0;34m(\u001b[0m\u001b[0mamp\u001b[0m\u001b[0;34m,\u001b[0m \u001b[0msr\u001b[0m\u001b[0;34m,\u001b[0m \u001b[0mdur\u001b[0m\u001b[0;34m,\u001b[0m \u001b[0mfreq\u001b[0m\u001b[0;34m,\u001b[0m \u001b[0mphase\u001b[0m\u001b[0;34m)\u001b[0m\u001b[0;34m\u001b[0m\u001b[0;34m\u001b[0m\u001b[0m\n\u001b[0m\u001b[1;32m      3\u001b[0m \u001b[0mipd\u001b[0m\u001b[0;34m.\u001b[0m\u001b[0mAudio\u001b[0m\u001b[0;34m(\u001b[0m\u001b[0ms\u001b[0m\u001b[0;34m,\u001b[0m \u001b[0mrate\u001b[0m\u001b[0;34m=\u001b[0m\u001b[0msr\u001b[0m\u001b[0;34m)\u001b[0m\u001b[0;34m\u001b[0m\u001b[0;34m\u001b[0m\u001b[0m\n",
            "\u001b[0;32m<ipython-input-1-e3748d2f9c47>\u001b[0m in \u001b[0;36mphasor_sine\u001b[0;34m(amp, sr, dur, freq, phase)\u001b[0m\n\u001b[1;32m      1\u001b[0m \u001b[0;32mdef\u001b[0m \u001b[0mphasor_sine\u001b[0m\u001b[0;34m(\u001b[0m\u001b[0mamp\u001b[0m\u001b[0;34m,\u001b[0m \u001b[0msr\u001b[0m\u001b[0;34m,\u001b[0m \u001b[0mdur\u001b[0m\u001b[0;34m,\u001b[0m \u001b[0mfreq\u001b[0m\u001b[0;34m,\u001b[0m \u001b[0mphase\u001b[0m\u001b[0;34m)\u001b[0m\u001b[0;34m:\u001b[0m\u001b[0;34m\u001b[0m\u001b[0;34m\u001b[0m\u001b[0m\n\u001b[0;32m----> 2\u001b[0;31m   \u001b[0mt\u001b[0m \u001b[0;34m=\u001b[0m \u001b[0mnp\u001b[0m\u001b[0;34m.\u001b[0m\u001b[0marange\u001b[0m\u001b[0;34m(\u001b[0m\u001b[0;36m1\u001b[0m\u001b[0;34m,\u001b[0m \u001b[0msr\u001b[0m \u001b[0;34m*\u001b[0m \u001b[0mdur\u001b[0m\u001b[0;34m+\u001b[0m\u001b[0;36m1\u001b[0m\u001b[0;34m)\u001b[0m\u001b[0;34m/\u001b[0m\u001b[0msr\u001b[0m\u001b[0;34m\u001b[0m\u001b[0;34m\u001b[0m\u001b[0m\n\u001b[0m\u001b[1;32m      3\u001b[0m   \u001b[0mtheta\u001b[0m \u001b[0;34m=\u001b[0m \u001b[0mt\u001b[0m \u001b[0;34m*\u001b[0m \u001b[0;36m2\u001b[0m\u001b[0;34m*\u001b[0m\u001b[0mnp\u001b[0m\u001b[0;34m.\u001b[0m\u001b[0mpi\u001b[0m \u001b[0;34m*\u001b[0m \u001b[0mfreq\u001b[0m \u001b[0;34m+\u001b[0m \u001b[0mphase\u001b[0m\u001b[0;34m\u001b[0m\u001b[0;34m\u001b[0m\u001b[0m\n\u001b[1;32m      4\u001b[0m   \u001b[0ms\u001b[0m \u001b[0;34m=\u001b[0m \u001b[0mamp\u001b[0m \u001b[0;34m*\u001b[0m \u001b[0mnp\u001b[0m\u001b[0;34m.\u001b[0m\u001b[0msin\u001b[0m\u001b[0;34m(\u001b[0m\u001b[0mtheta\u001b[0m\u001b[0;34m)\u001b[0m\u001b[0;34m\u001b[0m\u001b[0;34m\u001b[0m\u001b[0m\n\u001b[1;32m      5\u001b[0m   \u001b[0;32mreturn\u001b[0m \u001b[0ms\u001b[0m\u001b[0;34m,\u001b[0m \u001b[0mt\u001b[0m\u001b[0;34m,\u001b[0m \u001b[0mtheta\u001b[0m\u001b[0;34m\u001b[0m\u001b[0;34m\u001b[0m\u001b[0m\n",
            "\u001b[0;31mNameError\u001b[0m: name 'np' is not defined"
          ]
        }
      ]
    },
    {
      "cell_type": "markdown",
      "source": [
        "주파수가 440이라서 높은 소리가 들린다"
      ],
      "metadata": {
        "id": "xmHCz-CIz2as"
      }
    },
    {
      "cell_type": "markdown",
      "metadata": {
        "id": "UbvPura88cTP"
      },
      "source": [
        "### Phasor (complex)"
      ]
    },
    {
      "cell_type": "code",
      "metadata": {
        "id": "HE2s1cUu8cTQ"
      },
      "source": [
        "# parameter setting\n",
        "amp = 1          # range [0.0, 1.0]\n",
        "sr = 10000       # sampling rate, Hz\n",
        "dur = 0.5        # in seconds\n",
        "freq = 100.0     # sine frequency, Hz\n",
        "phase = 0  # phase, radian"
      ],
      "execution_count": null,
      "outputs": []
    },
    {
      "cell_type": "code",
      "metadata": {
        "id": "6EShFMfZ8cTS"
      },
      "source": [
        "# generate samples\n",
        "nSamp = sr * dur\n",
        "samples = np.arange(1, nSamp+1)"
      ],
      "execution_count": null,
      "outputs": []
    },
    {
      "cell_type": "code",
      "metadata": {
        "id": "Qdfr7oov8cTT"
      },
      "source": [
        "# convert samples to time\n",
        "t = samples/sr"
      ],
      "execution_count": null,
      "outputs": []
    },
    {
      "cell_type": "code",
      "metadata": {
        "id": "4ZW9EVdm8cTT"
      },
      "source": [
        "# convert time to angle in radian\n",
        "theta0 = t * 2*np.pi * freq"
      ],
      "execution_count": null,
      "outputs": []
    },
    {
      "cell_type": "code",
      "metadata": {
        "id": "VerbCAtu8cTT"
      },
      "source": [
        "# shift angle by phase\n",
        "theta = theta0 + phase"
      ],
      "execution_count": null,
      "outputs": []
    },
    {
      "cell_type": "code",
      "metadata": {
        "id": "2i5SwVUN8cTU"
      },
      "source": [
        "# generate signal by sin-phasor\n",
        "c = amp * np.exp(theta*1j)"
      ],
      "execution_count": null,
      "outputs": []
    },
    {
      "cell_type": "markdown",
      "source": [
        "다 똑같은데 sine 대신에 np.exp사용. 1j는 1e를 의미. e= 2.71...\n",
        "\n",
        "exp(theta*1j) = e^(theta * j)\n",
        "\n",
        "참고로 e^(theta * j)는 복소수. a + bi처럼 실수부와 허수부가 나누어진 수를 복소수라고 함.\n",
        "\n",
        "x축,y축을 각각 실수, 허수로 삼은 2차원 그래프를 그려보면 (a,b)점들이 많이 그려지게됨.\n",
        "\n",
        "이후 어쩌고저쩌고 수업 이해못함\n",
        "\n",
        "이러면 3차원으로 sine함수가 그려지게됨.\n",
        "\n",
        "3차원 축에서 하나는 허수(imaginary), 하나는 실수(real), 하나는 시간의 축으로 기능하게 됨.\n",
        "\n",
        "이 때 허수와 time의 관계는 사인 곡선, 실수와 time의 관계는 코사인 곡선. complex-phasor는 사인 함수와 코사인 함수를 동시에 가지고 있다는 점에서 complex라고 할 수 있음."
      ],
      "metadata": {
        "id": "ePzCJ3GB0lQF"
      }
    },
    {
      "cell_type": "code",
      "metadata": {
        "id": "3ULGOec-8cTU"
      },
      "source": [
        "# plot the entire signal\n",
        "import plotly.graph_objects as go\n",
        "x, y, z = t, c.real, c.imag\n",
        "fig = go.Figure(data=[go.Scatter3d(x=x, y=y, z=z,\n",
        "                                   mode='markers',\n",
        "                                   marker=dict(size=3))])\n",
        "fig.update_layout(scene = dict(\n",
        "                    xaxis_title='time (sec)',\n",
        "                    yaxis_title='real',\n",
        "                    zaxis_title='imag'))\n",
        "fig.show()"
      ],
      "execution_count": null,
      "outputs": []
    },
    {
      "cell_type": "code",
      "metadata": {
        "id": "O6AdKbO18cTV"
      },
      "source": [
        "# plot a certain of signals\n",
        "import plotly.graph_objects as go\n",
        "sampleRng = np.arange(0,100)\n",
        "x, y, z = t[sampleRng], c.real[sampleRng], c.imag[sampleRng]\n",
        "fig = go.Figure(data=[go.Scatter3d(x=x, y=y, z=z,\n",
        "                                   mode='markers',\n",
        "                                   marker=dict(size=3))])\n",
        "fig.update_layout(scene = dict(\n",
        "                    xaxis_title='time (sec)',\n",
        "                    yaxis_title='real',\n",
        "                    zaxis_title='imag'))\n",
        "fig.show()"
      ],
      "execution_count": null,
      "outputs": []
    },
    {
      "cell_type": "code",
      "metadata": {
        "id": "F9gD4_DY8cTV"
      },
      "source": [
        "ipd.Audio(c.imag, rate=sr)"
      ],
      "execution_count": null,
      "outputs": []
    },
    {
      "cell_type": "markdown",
      "source": [
        "이 때 imaginary part만 살리고 real part는 버림\n",
        "a+bi에서 b만 취했다는 것. 3차원으로 plotting 하는 것은 a, b 둘 다 가져갈 수 있으나, 소리를 들을 때는 둘 중에 하나를 취해야만함.\n",
        "\n",
        "참고로 c.real하면 a를 취할 수 있음."
      ],
      "metadata": {
        "id": "w_l5dvEL22h0"
      }
    },
    {
      "cell_type": "code",
      "metadata": {
        "id": "VtBE8NGz8cTV"
      },
      "source": [
        "def phasor_complex(amp, sr, dur, freq, phase):\n",
        "  t = np.arange(1, sr * dur+1)/sr\n",
        "  theta = t * 2*np.pi * freq + phase\n",
        "  c = amp * np.exp(theta*1j)\n",
        "  return c, t, theta"
      ],
      "execution_count": null,
      "outputs": []
    },
    {
      "cell_type": "code",
      "metadata": {
        "id": "hR8gNlF88cTW"
      },
      "source": [
        "amp = 1; sr = 10000; dur = 1; freq = 440; phase = 0\n",
        "c, t, theta = phasor_complex(amp, sr, dur, freq, phase)\n",
        "ipd.Audio(c.imag, rate=sr)"
      ],
      "execution_count": null,
      "outputs": []
    },
    {
      "cell_type": "markdown",
      "source": [
        "수업다시듣기"
      ],
      "metadata": {
        "id": "eLrdfqsl3u3v"
      }
    },
    {
      "cell_type": "code",
      "source": [
        ""
      ],
      "metadata": {
        "id": "wkuCtnXK3v1M"
      },
      "execution_count": null,
      "outputs": []
    }
  ]
}