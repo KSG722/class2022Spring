{
  "nbformat": 4,
  "nbformat_minor": 0,
  "metadata": {
    "colab": {
      "name": "Untitled0.ipynb",
      "provenance": [],
      "authorship_tag": "ABX9TyNAlwNDRceK1Z/viDT5mCUq",
      "include_colab_link": true
    },
    "kernelspec": {
      "name": "python3",
      "display_name": "Python 3"
    },
    "language_info": {
      "name": "python"
    }
  },
  "cells": [
    {
      "cell_type": "markdown",
      "metadata": {
        "id": "view-in-github",
        "colab_type": "text"
      },
      "source": [
        "<a href=\"https://colab.research.google.com/github/KSG722/class2022Spring/blob/main/0516%ED%95%84%EA%B8%B0.ipynb\" target=\"_parent\"><img src=\"https://colab.research.google.com/assets/colab-badge.svg\" alt=\"Open In Colab\"/></a>"
      ]
    },
    {
      "cell_type": "markdown",
      "source": [
        "#Computer Vision\n",
        "\n",
        "**image Classfication**\n"
      ],
      "metadata": {
        "id": "kE1LBlZNpGih"
      }
    },
    {
      "cell_type": "code",
      "execution_count": null,
      "metadata": {
        "id": "IsG_vL1y8CHt"
      },
      "outputs": [],
      "source": [
        "!pip install transformers\n",
        "\n",
        "from transformers import ViTFeatureExtractor, ViTForImageClassification\n",
        "from PIL import Image\n",
        "import requests\n",
        "\n",
        "url = 'http://images.cocodataset.org/val2017/000000039769.jpg'\n",
        "image = Image.open(requests.get(url, stream=True).raw)\n",
        "\n",
        "feature_extractor = ViTFeatureExtractor.from_pretrained('google/vit-base-patch16-224')\n",
        "model = ViTForImageClassification.from_pretrained('google/vit-base-patch16-224')\n",
        "\n",
        "inputs = feature_extractor(images=image, return_tensors=\"pt\")\n",
        "outputs = model(**inputs)\n",
        "logits = outputs.logits\n",
        "# model predicts one of the 1000 ImageNet classes\n",
        "predicted_class_idx = logits.argmax(-1).item()\n",
        "\n",
        "print(\"Predicted class:\", model.config.id2label[predicted_class_idx])"
      ]
    },
    {
      "cell_type": "markdown",
      "source": [
        "huggingface에서 \n",
        "vit-base-patch16-224에서 how to use 긁어온 것 (https://huggingface.co/google/vit-base-patch16-224)\n",
        "\n",
        "그냥 실행 시 transformers 모듈이 없기 때문. 따라서 첫 줄에 !pip install transformers추가\n",
        "\n",
        "\n",
        "url의 이미지를 행렬화하며 이미지를 분석해 무엇인지(어떤 종인지) 평가하는 것."
      ],
      "metadata": {
        "id": "5SL325Tl8GXf"
      }
    },
    {
      "cell_type": "code",
      "source": [
        "print(\"Predicted class:\", model.config.id2label[predicted_class_idx])"
      ],
      "metadata": {
        "colab": {
          "base_uri": "https://localhost:8080/"
        },
        "id": "Gbr5IyCR85-I",
        "outputId": "526f2ef2-2b2a-4f96-d9a6-59ebf1c6b58d"
      },
      "execution_count": null,
      "outputs": [
        {
          "output_type": "stream",
          "name": "stdout",
          "text": [
            "Predicted class: Egyptian cat\n"
          ]
        }
      ]
    },
    {
      "cell_type": "markdown",
      "source": [
        "이집트 고양이라고 분류를 함. image classification.\n",
        "\n",
        "참고로 image callsification은 특정한 몇몇개의 분류만을 가지고 있을 뿐이며, 제공된 사진이 몇몇 분류 중에서 이집트 고양이에 가장 가까웠던 것. 참고로 https://huggingface.co/google/vit-base-patch16-224를 참고하면 1000개의 분류가 있으며 그 중 가장 확률이 높은 것이 이집션 고양이인 것. 93.7%의 일치율을 보임. 해당 페이지 오른쪽에 API 칸에 사진을 drag&drop하면 나옴.\n",
        "(참고로 이집션 캣, 호랑이, 강아지 등 모든 확률값을 더하면 1)"
      ],
      "metadata": {
        "id": "ZMIfpLiq865L"
      }
    },
    {
      "cell_type": "markdown",
      "source": [
        "**class segmetation** : 이미지에서 누끼따기"
      ],
      "metadata": {
        "id": "VZ4Dy6DNpN_Q"
      }
    },
    {
      "cell_type": "code",
      "source": [
        "!pip install transformers\n",
        "!pip install timm\n",
        "\n",
        "from transformers import DetrFeatureExtractor, DetrForSegmentation\n",
        "from PIL import Image\n",
        "import requests\n",
        "\n",
        "url = 'http://images.cocodataset.org/val2017/000000039769.jpg'\n",
        "image = Image.open(requests.get(url, stream=True).raw)\n",
        "\n",
        "feature_extractor = DetrFeatureExtractor.from_pretrained('facebook/detr-resnet-50-panoptic')\n",
        "model = DetrForSegmentation.from_pretrained('facebook/detr-resnet-50-panoptic')\n",
        "\n",
        "inputs = feature_extractor(images=image, return_tensors=\"pt\")\n",
        "outputs = model(**inputs)\n",
        "# model predicts COCO classes, bounding boxes, and masks\n",
        "logits = outputs.logits\n",
        "bboxes = outputs.pred_boxes\n",
        "masks = outputs.pred_masks"
      ],
      "metadata": {
        "id": "wt8SyNGM-mtb"
      },
      "execution_count": null,
      "outputs": []
    },
    {
      "cell_type": "markdown",
      "source": [
        "https://huggingface.co/facebook/detr-resnet-50-panoptic에 들어가서 고양이 사진을 넣어보면 고양이와 뒷 배경이 완벽하게 분리되어 인식 가능.\n",
        "\n",
        "또한 각각의 segmentation에 대해 확률값도 제공. \n",
        "\n",
        "분리된 것이 person인지 playingfield인지 sports ball인지도 분리하여 image classfication도 해주는 것.\n",
        "\n",
        "\n",
        "**image to image** : 이미지가 들어가서 약간 변형돼서 나오는 것. 예를 들어서 어두운 배경의 사진을 넣으면 밝기가 밝아진 이미지가 나온다던가.\n",
        "\n",
        "**unconditional image generation** : 조건없이 그림 생성.\n",
        "\n",
        "이미지를 넣어주면 거의 새로운 그림 만들기 ai가 그림그리는 거. 엄청나게 많은 그림들을 학습시켜서 조건없이 새로운 그림을 만들게끔 하는 것. \n",
        "conditional이었으면 사과를 그려라, 바다를 그려라 이런 식이었겠지만 unconditional이므로 아무거나 그리는 것.\n",
        "\n",
        "**object detection** : 오브젝트에 해당되는 것들을 사진에서 찾는 것. 예컨데 축구 장 위의 축구선수들이 나와있는 사진의 경우, 메시와 음바페만 오브젝트로 설정하여 찾아내는 것. 그 외 잔디밭은 인식x.\n",
        "\n",
        "-> class segmentation은 음바페와 메시의 outline을 정확하게 따는(누끼따는) 명령어였다면\n",
        "\n",
        "object detection은 해당 오브젝트를 전부 포괄하는 직사각형으로 범위를 따는 것.\n",
        "\n",
        "그리고 playingfield는 segmentation과 달리 여기에선 인식x. object가 아니기 때문.\n",
        "\n",
        "\n",
        "\n"
      ],
      "metadata": {
        "id": "Hv8T_7-w_LcQ"
      }
    },
    {
      "cell_type": "markdown",
      "source": [
        "#자연어 처리(Natural Language Processing)\n",
        "\n",
        "**translation** : 파파고\n",
        "\n",
        "**Fill-Mask** : ai더러 빈칸 주고 찾기. \n",
        "\n",
        "ex) The Paris is [MASK] of France라고 입력하면 컴퓨터가 capital이라는 단어를 준다.\n",
        "\n",
        "**Token classification** : My name is Sarah and I live in London이라고 입력하면 \n",
        "\n",
        "Sarah -> Person\n",
        "\n",
        "London -> Loc(location) 이라고 인식. 이 밖에도 Organization 등도 인식.\n",
        "\n",
        "**Sentence Similarity** : 문장 일치율 검사.\n",
        "\n",
        "Source Sentence에 That is a happy person 넣고 \n",
        "\n",
        "sentence to compare to에 다른 문장들 여러개 넣으면 그 중 어느 문장이 어느 정도 일치율로 유사한지 보여줌.\n",
        "\n",
        "**Question answering** : 질문과 문맥을 던져주면, answer를 도출하는 모델.\n",
        "ex) My name is Kim.(문맥) What is my name?(질문) -> Kim\n",
        "\n",
        "**summarization** : paragraph를 요약해주는 모델\n",
        "\n",
        "**zero-shot classification**(중요) : 기존 classification 과정은 (정해진)여러 가지의 class로 구성된 데이터 속에서 훈련을 시키고, 이후 빵 그림이 들어가면 그 데이터들 속에서 이 그림이 빵이라는 분류를 찾아내는 것. \n",
        "\n",
        "그러나 제로샷은 어떤 문장을 주고, possible class name(키워드)도 줌. 미리 훈련을 한 적이 없는 데이터들. 문장 중 어떤 키워드가 문장을 설명하는 것과 맞는가를 보는 것. 문장: I have a problem with my iPhone that needs to be ~~(못봄) ASAP!. 그리고 키워드에 urgent, happy 등의 키워드를 넣으면 이 중 가장 연관성이 높은 키워드인 urgent가 도출되는 것\n",
        "\n",
        "**text classification** : 영화리뷰 한 줄 넣으면 이게 negtive한 리뷰인지 positive한 리뷰인지 구분하는 것. \n",
        "\n",
        "\n",
        "**text2text generation** : answer가 주어져 있을 때 question text를 생성\n",
        "\n",
        "**text geneartion** : 일부 text를 주면 전체 문장을 생성\n",
        "\n",
        "**conversation** : 채팅처럼 서로 주고받으면서 text를 생성. 챗봇.\n",
        "\n"
      ],
      "metadata": {
        "id": "zw4ln1pRAhhV"
      }
    },
    {
      "cell_type": "code",
      "source": [
        "from transformers import Wav2Vec2Processor, Wav2Vec2ForCTC\n",
        " from datasets import load_dataset\n",
        " import soundfile as sf\n",
        " import torch\n",
        " \n",
        " # load model and tokenizer\n",
        " processor = Wav2Vec2Processor.from_pretrained(\"facebook/wav2vec2-base-960h\")\n",
        " model = Wav2Vec2ForCTC.from_pretrained(\"facebook/wav2vec2-base-960h\")\n",
        "     \n",
        " # load dummy dataset and read soundfiles\n",
        " ds = load_dataset(\"patrickvonplaten/librispeech_asr_dummy\", \"clean\", split=\"validation\")\n",
        " \n",
        " # tokenize\n",
        " input_values = processor(ds[0][\"audio\"][\"array\"], return_tensors=\"pt\", padding=\"longest\").input_values  # Batch size 1\n",
        " \n",
        " # retrieve logits\n",
        " logits = model(input_values).logits\n",
        " \n",
        " # take argmax and decode\n",
        " predicted_ids = torch.argmax(logits, dim=-1)"
      ],
      "metadata": {
        "id": "XKK6srt8NVmQ"
      },
      "execution_count": null,
      "outputs": []
    },
    {
      "cell_type": "markdown",
      "source": [
        "https://huggingface.co/facebook/wav2vec2-base-960h\n",
        "\n",
        "#Audio\n",
        "\n",
        "**Automatic speech recognition** : 음성인식. 오디오 파일을 넣으면 해당 오디오를 인식해서 텍스트로 도출해줌. 혹은 실시간으로 말하면 이를 인식하기도 함. \n",
        "\n",
        "**audio classfication** : 언어 분류 혹은 어조 분석 등. \n",
        "ex) 한국어, 일본어, 영어 등등 중 무슨 언어인 지 확률로 알려줌. \n",
        "ex)오디오 파일을 넣으면 어조를 분석해서 분류해줌. -> 화난 음성, 슬픈 상태 등.\n",
        "\n",
        "**text-to-speech** : 텍스트 넣으면 ai가 읽어줌. \n",
        "\n",
        "만들어진 행렬 set(ai model)을 가지고 사용해서 입력해서 넣어서 출력을 넣어서 뭐가 나오는지 보는 것을 ***inference***라고 함(시험!!)\n",
        "\n",
        "\n",
        "**audio-to-audio** : 오디오를 넣어주면 잡음을 제거하고 더 선명한 오디오 도출\n",
        "\n",
        "**Voice Activity Detection**(중요) : 오디오 wave에서 사람 목소리 구간 찾기. 사람의 speech와 관련된 구간 찾기. 예를 들어 '쯧쯧쯧'이라는 소리를 냈어도 이는 사람의 voice라든지, speech라고 보기 힘듦. 이런 것까지 걸러줌..\n",
        "\n",
        "혹은 여러 소리가 겹쳐있을 때 소리를 구분해줌. ->\n",
        "ex) 회의 과정. 여러 사람의 소리가 겹쳐있음. 이 때 회의록을 추출하기 위한 모델. 여러 사람의 목소리를 구분해서 찾아줌. 말하는 사람이 female인지 male인지 구분하고, 누가 어떤 구간에서 speech를 했는지 구간을 찾아줌.\n",
        "![제목 없음.png](data:image/png;base64,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)\n",
        "\n",
        "그리고 이렇게 ai가 구분한 구간이랑 실제로 구분한 pyannote 구간을 비교해서 정확성을 계산할 수도 있음.\n",
        "\n",
        "pyannote.metrics.diarization 함수를 통해 계산한 결과\n",
        "\n",
        "error rate = 27.2% <- 즉 약 73%의 정확도를 보인 ai model\n",
        "\n",
        "#pyannote\n",
        " \n",
        "**speaker-diarization** : 화자 여러 명을 모두 찾아서 구분.\n",
        "**voice-activity-detection** : 잡음과 무음 구간과 사람의 voice 구간을 구분\n",
        "**speaker-segmentation** : 화자의 구분\n",
        "**overlapped-speech-detection** : 화자 간 스피킹이 겹치는 부분\n",
        "\n",
        "\n",
        "#Multimodal (여러 modal을 왔다갔다 한다는 것)\n",
        "\n",
        "**Text-to-Imgae** : AI화가. 어떤 텍스트를 주면(해변의 강아지) ai가 진짜 바닷가의 강아지 그림을 그리는 명령어.\n",
        "\n",
        "ex) a blue dancing peanut이라는 텍스트를 집어넣으면 춤추는 파란색 땅콩 캐릭터 그림이 나온다.\n",
        "\n",
        "\n",
        "**image to text** : TTI랑 반대. image captioning(이미지 자막달기). 이미지를 주면 그 걸 텍스트로 설명해내는 명령어\n",
        "\n",
        "\n",
        "\n",
        "\n",
        "\n",
        "\n",
        "\n",
        "\n",
        "\n",
        "이러한 허깅페이스 그라디오를 콜랩에서 구현하는 것도 중요하다.\n",
        "\n"
      ],
      "metadata": {
        "id": "uDK6P5xfNZKY"
      }
    },
    {
      "cell_type": "code",
      "source": [
        ""
      ],
      "metadata": {
        "id": "F_RKyOYuZHv8"
      },
      "execution_count": null,
      "outputs": []
    }
  ]
}