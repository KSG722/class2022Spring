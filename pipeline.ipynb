{
  "nbformat": 4,
  "nbformat_minor": 0,
  "metadata": {
    "colab": {
      "name": "pipeline.ipynb",
      "provenance": [],
      "include_colab_link": true
    },
    "kernelspec": {
      "name": "python3",
      "display_name": "Python 3"
    },
    "language_info": {
      "name": "python"
    }
  },
  "cells": [
    {
      "cell_type": "markdown",
      "metadata": {
        "id": "view-in-github",
        "colab_type": "text"
      },
      "source": [
        "<a href=\"https://colab.research.google.com/github/KSG722/class2022Spring/blob/main/pipeline.ipynb\" target=\"_parent\"><img src=\"https://colab.research.google.com/assets/colab-badge.svg\" alt=\"Open In Colab\"/></a>"
      ]
    },
    {
      "cell_type": "markdown",
      "source": [
        "### [Huggingface pipelines](https://huggingface.co/docs/transformers/v4.19.2/en/main_classes/pipelines)"
      ],
      "metadata": {
        "id": "Hsb22sODAkiu"
      }
    },
    {
      "cell_type": "markdown",
      "source": [
        "pipelines : 간소화한 함수 형태. 파이프 라인 안 속은 모르겠고, 파이프라입에 넣는 입력이랑 튀어나오는 출력만 알면 됨.\n",
        "\n",
        "ai 모델을 만들어놓고 입출력을 넣어서 쓰는 것을 인퍼런스라고 하는데, 이 인퍼런스를 간소화하여 쓰는 함수가 pipeline.\n",
        "\n",
        "아래를 보면 알겠지만 input, output만 넣어주면 task들을 모두 수행할 수 있음."
      ],
      "metadata": {
        "id": "BV7Pa02-P_K-"
      }
    },
    {
      "cell_type": "code",
      "execution_count": null,
      "metadata": {
        "id": "igcmeYcHSWUs"
      },
      "outputs": [],
      "source": [
        "!pip install transformers\n",
        "from transformers import pipeline"
      ]
    },
    {
      "cell_type": "code",
      "source": [
        "pipe = pipeline(task=\"audio-classification\")"
      ],
      "metadata": {
        "id": "AbTafwBzZm_v"
      },
      "execution_count": null,
      "outputs": []
    },
    {
      "cell_type": "markdown",
      "source": [
        "audio-classfication 모델를 pipeline으로 가져오는 함수\n",
        "\n",
        "특정 모델을 가져오고 싶을 경우 model = ~로 설정해주면 됨. 특별히 설정해주지 않는 경우 디폴트로 설정되어 있는 모델을 가져옴."
      ],
      "metadata": {
        "id": "JFjdIAjTQ2zY"
      }
    },
    {
      "cell_type": "code",
      "source": [
        "pipe(\"go.wave\")"
      ],
      "metadata": {
        "id": "l-GiMXTLSntF"
      },
      "execution_count": null,
      "outputs": []
    },
    {
      "cell_type": "markdown",
      "source": [
        "go.wave 파일을 오디오로 분류"
      ],
      "metadata": {
        "id": "19a_1I0nEPz3"
      }
    },
    {
      "cell_type": "markdown",
      "source": [
        "> [emotional speech dataset for audio-classification\n",
        "](https://www.kaggle.com/datasets/uwrfkaggler/ravdess-emotional-speech-audio?resource=download)"
      ],
      "metadata": {
        "id": "fcAxqFJW7cQE"
      }
    },
    {
      "cell_type": "markdown",
      "source": [
        "kaggle : data가 집약된 유용한 사이트. -> 여러 가지 다양한 emotion이 담긴 audio 파일 링크. 위의 audio를 emotion별로 classify할 때 사용.\n",
        "\n",
        "결과 : disgust -> 0.14,\n",
        "angry -> 0.12\n",
        "\n",
        "이런 식으로 나옴"
      ],
      "metadata": {
        "id": "jhi2FRmqE6lZ"
      }
    },
    {
      "cell_type": "code",
      "source": [
        "pipe = pipeline(task=\"automatic-speech-recognition\")"
      ],
      "metadata": {
        "id": "Du0I-rPQZnLs"
      },
      "execution_count": null,
      "outputs": []
    },
    {
      "cell_type": "markdown",
      "source": [
        "automatic speech recognition의 기본 모델을 pipeline으로 가져옴."
      ],
      "metadata": {
        "id": "5X24kdjuVhLP"
      }
    },
    {
      "cell_type": "code",
      "source": [
        "pine(\"go.wave\")"
      ],
      "metadata": {
        "id": "4P1e7RhGF6gv"
      },
      "execution_count": null,
      "outputs": []
    },
    {
      "cell_type": "markdown",
      "source": [
        "KIDS ARE TALING BY THE DOOR\n",
        "\n",
        "-> 정확히 음성을 인식해냄"
      ],
      "metadata": {
        "id": "uHGWljhJF8cK"
      }
    },
    {
      "cell_type": "code",
      "source": [
        "pipe = pipeline(task=\"conversational\")"
      ],
      "metadata": {
        "id": "9Ea2WaXWeYzO"
      },
      "execution_count": null,
      "outputs": []
    },
    {
      "cell_type": "markdown",
      "source": [
        "챗봇 관련한 모델(약간 난해해서 아래의 추가 코딩 필요)"
      ],
      "metadata": {
        "id": "ylt8LqxfGDFU"
      }
    },
    {
      "cell_type": "code",
      "source": [
        "from transformers import Conversation\n",
        "Conversation(\"Going to the movies tonight - any suggestions?\")\n",
        "\n",
        "conversation_1 = Conversation(\"Going to the movies tonight - any suggestions?\")\n",
        "conversation_2 = Conversation(\"What's the last book you have read?\")\n",
        "\n",
        "pipe([conversation_1, conversation_2])"
      ],
      "metadata": {
        "id": "2aR1i5xPhBgK"
      },
      "execution_count": null,
      "outputs": []
    },
    {
      "cell_type": "markdown",
      "source": [
        "pipeline에 두 개의 conversation을 list로 묶어서 넣어줘야함.\n",
        "\n",
        "그러면 각각의 문장에 맞게 각각의 대답이 나옴"
      ],
      "metadata": {
        "id": "a8GFrjJlGPAO"
      }
    },
    {
      "cell_type": "code",
      "source": [
        "conversation_1.add_user_input(\"Is it an action movie?\")\n",
        "conversation_2.add_user_input(\"What is the genre of this book?\")\n",
        "\n",
        "pipe([conversation_1, conversation_2])"
      ],
      "metadata": {
        "id": "7mz4btXyD2ac"
      },
      "execution_count": null,
      "outputs": []
    },
    {
      "cell_type": "markdown",
      "source": [
        "추가 질문도 input 가능"
      ],
      "metadata": {
        "id": "lPYCCnTPGjuO"
      }
    },
    {
      "cell_type": "code",
      "source": [
        "pipe = pipeline(task=\"feature-extraction\")"
      ],
      "metadata": {
        "id": "jKmV7A0peiOR"
      },
      "execution_count": null,
      "outputs": []
    },
    {
      "cell_type": "markdown",
      "source": [
        "feature를 뽑아내는 model. feature를 뽑는 건 sentence similarity에서 하던 수행. \n",
        "\n",
        "feature 뽑기 = 숫자화하기 = 문장을 embedding(vector)으로 conver하기"
      ],
      "metadata": {
        "id": "XWAuP7-SGvdm"
      }
    },
    {
      "cell_type": "code",
      "source": [
        "pipe(\"What's the last book you have read?\")"
      ],
      "metadata": {
        "id": "fOr2SXf-keIm"
      },
      "execution_count": null,
      "outputs": []
    },
    {
      "cell_type": "markdown",
      "source": [
        "What's the last book you have read?가 숫자화되어 vector가 됨.\n",
        "\n",
        "이러면 이후에 문장 유사성 비교(sentence similarity) 가능"
      ],
      "metadata": {
        "id": "p2mNro0TWIln"
      }
    },
    {
      "cell_type": "code",
      "source": [
        "pipe = pipeline(task=\"fill-mask\")"
      ],
      "metadata": {
        "id": "tZzfAxb7Zm8r"
      },
      "execution_count": null,
      "outputs": []
    },
    {
      "cell_type": "markdown",
      "source": [
        "빈칸채우기"
      ],
      "metadata": {
        "id": "_dDTerRPHnU9"
      }
    },
    {
      "cell_type": "code",
      "source": [
        "pipe = pipeline(task=\"image-classification\")"
      ],
      "metadata": {
        "id": "HapJJtnzeiKG"
      },
      "execution_count": null,
      "outputs": []
    },
    {
      "cell_type": "markdown",
      "source": [
        "이미지 분류. 이집션 캣인지 dog인지 구분."
      ],
      "metadata": {
        "id": "GmqhcI5THorG"
      }
    },
    {
      "cell_type": "code",
      "source": [
        "pipe = pipeline(task=\"image-segmentation\")"
      ],
      "metadata": {
        "id": "tf-V7IdlZm5h"
      },
      "execution_count": null,
      "outputs": []
    },
    {
      "cell_type": "markdown",
      "source": [
        "누끼따기"
      ],
      "metadata": {
        "id": "X6IHmHaXH5SB"
      }
    },
    {
      "cell_type": "code",
      "source": [
        "pipe = pipeline(task=\"ner\")"
      ],
      "metadata": {
        "id": "mFB501JrZm28"
      },
      "execution_count": null,
      "outputs": []
    },
    {
      "cell_type": "markdown",
      "source": [
        "named entity recognition : 문장 상 중요 성분들을 LOC, PER, ORG, MISC로 구분"
      ],
      "metadata": {
        "id": "jNHvWk7jHvJI"
      }
    },
    {
      "cell_type": "code",
      "source": [
        "pipe = pipeline(task=\"object-detection\")"
      ],
      "metadata": {
        "id": "yfYGY75aZmzu"
      },
      "execution_count": null,
      "outputs": []
    },
    {
      "cell_type": "markdown",
      "source": [
        "이미지 파일 안의 object를 직사각형 형태로 분리하고 무엇인지 정보제공."
      ],
      "metadata": {
        "id": "Rqhpu_8CIMuu"
      }
    },
    {
      "cell_type": "code",
      "source": [
        "pipe = pipeline(task=\"question-answering\")"
      ],
      "metadata": {
        "id": "1AMf356WZnFe"
      },
      "execution_count": null,
      "outputs": []
    },
    {
      "cell_type": "markdown",
      "source": [
        "질문과 문맥을 주면 대답"
      ],
      "metadata": {
        "id": "1TRHa24mITzU"
      }
    },
    {
      "cell_type": "code",
      "source": [
        "pipe = pipeline(task=\"sentiment-analysis\")"
      ],
      "metadata": {
        "id": "zKrTtHNZZnIm"
      },
      "execution_count": null,
      "outputs": []
    },
    {
      "cell_type": "markdown",
      "source": [
        "감정 분석."
      ],
      "metadata": {
        "id": "d0ZvGu_UIXh1"
      }
    },
    {
      "cell_type": "code",
      "source": [
        "pipe(\"I love the movie a lot\")"
      ],
      "metadata": {
        "id": "fTw_NfCxXC-6"
      },
      "execution_count": null,
      "outputs": []
    },
    {
      "cell_type": "markdown",
      "source": [
        "Positive 0.999, Negative 0.01\n",
        "\n",
        "감정이 positive로 분류됨.\n",
        "\n",
        "(positive, negative 두 개로 분류)"
      ],
      "metadata": {
        "id": "3ywDb4HSXEpv"
      }
    },
    {
      "cell_type": "code",
      "source": [
        "pipe = pipeline(task=\"summarization\")"
      ],
      "metadata": {
        "id": "gEEd-jBMeiGO"
      },
      "execution_count": null,
      "outputs": []
    },
    {
      "cell_type": "markdown",
      "source": [
        "요약"
      ],
      "metadata": {
        "id": "TFMf8mSRXL4W"
      }
    },
    {
      "cell_type": "code",
      "source": [
        "!pip install -q torch-scatter -f https://data.pyg.org/whl/torch-${TORCH}.html\n",
        "pipe = pipeline(task=\"table-question-answering\")"
      ],
      "metadata": {
        "id": "HsuJwwnde7eR"
      },
      "execution_count": null,
      "outputs": []
    },
    {
      "cell_type": "markdown",
      "source": [
        "table(표)를 기반으로 질문/대답"
      ],
      "metadata": {
        "id": "zAorDQY3Joj_"
      }
    },
    {
      "cell_type": "code",
      "source": [
        "data = {\n",
        "    \"actors\": [\"brad pitt\", \"leonardo di caprio\", \"george clooney\"],\n",
        "    \"age\": [\"56\", \"45\", \"59\"],\n",
        "    \"number of movies\": [\"87\", \"53\", \"69\"],\n",
        "    \"date of birth\": [\"7 february 1967\", \"10 june 1996\", \"28 november 1967\"],\n",
        "}\n",
        "pipe(data, 'how old is brad pitt?')"
      ],
      "metadata": {
        "id": "A0E0kRi6jukT"
      },
      "execution_count": null,
      "outputs": []
    },
    {
      "cell_type": "markdown",
      "source": [
        "data를 표(table) 형태로 제시 : actor 이름, 나이, 필모 개수, 생년월일이 표시된 표\n",
        "\n",
        "이 표의 정보를 바탕으로 질문과 대답. 자연어 질문임에도 불구하고 컴퓨터가 대답을 할 수 있음.\n",
        "\n",
        "ex) 브래드 피트의 나이는 ? 56"
      ],
      "metadata": {
        "id": "i0IlLTgAJYAX"
      }
    },
    {
      "cell_type": "code",
      "source": [
        "pipe = pipeline(task=\"text-classification\")"
      ],
      "metadata": {
        "id": "8VrTCfJOZnCm"
      },
      "execution_count": null,
      "outputs": []
    },
    {
      "cell_type": "markdown",
      "source": [
        "text 분류. sentimental analysis도 이 task의 일부."
      ],
      "metadata": {
        "id": "7Hsh5N9CLKTu"
      }
    },
    {
      "cell_type": "code",
      "source": [
        "pipe = pipeline(task=\"text-generation\")"
      ],
      "metadata": {
        "id": "1qrC5pVvZcD1"
      },
      "execution_count": null,
      "outputs": []
    },
    {
      "cell_type": "markdown",
      "source": [
        "일부 텍스트를 주면 전체 텍스트 문장을 생성.\n",
        "\n",
        "ex) My name is Hosung Nam. I work at Korea University. -> I work at Korea University of Technoloty with a big background in Electronics Engineering."
      ],
      "metadata": {
        "id": "tJQGwQELLVKm"
      }
    },
    {
      "cell_type": "code",
      "source": [
        "pipe = pipeline(task=\"text2text-generation\")"
      ],
      "metadata": {
        "id": "czfn1yYjfC2q"
      },
      "execution_count": null,
      "outputs": []
    },
    {
      "cell_type": "markdown",
      "source": [
        "answer가 주어져 있을 때 question text를 생성"
      ],
      "metadata": {
        "id": "uIinCieZLzEV"
      }
    },
    {
      "cell_type": "code",
      "source": [
        "pipe = pipeline(task=\"token-classification\")"
      ],
      "metadata": {
        "id": "saYq0rnbZmxK"
      },
      "execution_count": null,
      "outputs": []
    },
    {
      "cell_type": "markdown",
      "source": [
        "단어 하나(token)별로 LOC, PER, ORG 등 분류"
      ],
      "metadata": {
        "id": "SEkPzp8HML8F"
      }
    },
    {
      "cell_type": "code",
      "source": [
        "pipe = pipeline(task=\"translation_en_to_de\")"
      ],
      "metadata": {
        "id": "jGdtdjn9fV4K"
      },
      "execution_count": null,
      "outputs": []
    },
    {
      "cell_type": "markdown",
      "source": [
        "번역_영어 to 독일어"
      ],
      "metadata": {
        "id": "2hq4qUGXMTzh"
      }
    },
    {
      "cell_type": "code",
      "source": [
        "pipe = pipeline(task=\"zero-shot-classification\")"
      ],
      "metadata": {
        "id": "54J0T-l6fVtI"
      },
      "execution_count": null,
      "outputs": []
    },
    {
      "cell_type": "markdown",
      "source": [
        "zero shot : 학습을 할 때 원래는 강아지 사진을 주고 dog라고 분류를 해주며 학습시킴. 그러나 제로샷은 그런 정보없이 무작위로 사진을 준 뒤 분류시키는 것."
      ],
      "metadata": {
        "id": "KX0z7moiMX5Z"
      }
    },
    {
      "cell_type": "code",
      "source": [
        "pipe(\"one day I will see the world\", ['travel', 'cooking', 'dancing'])"
      ],
      "metadata": {
        "id": "OZj3g-LgEftq"
      },
      "execution_count": null,
      "outputs": []
    },
    {
      "cell_type": "markdown",
      "source": [
        "one day I will see the world라는 문장을 분류해봐라. travel, cooking, dancing 3개 중에서 분류해봐라.\n",
        "\n",
        "-> 기존에 저 문장을 학습시키지 않았으므로 제로샷.\n",
        "\n",
        "-> travel : 0.98"
      ],
      "metadata": {
        "id": "eMAZWWC2MnqY"
      }
    },
    {
      "cell_type": "code",
      "source": [
        "pipe = pipeline(task=\"zero-shot-image-classification\")"
      ],
      "metadata": {
        "id": "e8B335KufW17"
      },
      "execution_count": null,
      "outputs": []
    },
    {
      "cell_type": "markdown",
      "source": [
        "이 건 zero shot인데 이미지 분류. 역시 훈련없이 분류."
      ],
      "metadata": {
        "id": "WBk_aCySM5JP"
      }
    },
    {
      "cell_type": "code",
      "source": [
        "url = \"http://images.cocodataset.org/val2017/000000039769.jpg\"\n",
        "pipe(url, candidate_labels=[\"a photo of a cat\", \"a photo of a dog\"])"
      ],
      "metadata": {
        "id": "epMvhF4sE8pJ"
      },
      "execution_count": null,
      "outputs": []
    },
    {
      "cell_type": "markdown",
      "source": [
        "고양이 사진을 주고\n",
        "\n",
        "후보 label 둘 중 에 하나로 분류해보라는 것.\n",
        "\n",
        "cat : 0.9"
      ],
      "metadata": {
        "id": "MUC2BN8gM_sO"
      }
    }
  ]
}