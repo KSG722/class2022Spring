{
  "nbformat": 4,
  "nbformat_minor": 0,
  "metadata": {
    "colab": {
      "name": "audio_processing.ipynb",
      "provenance": [],
      "include_colab_link": true
    },
    "kernelspec": {
      "name": "python3",
      "display_name": "Python 3"
    },
    "language_info": {
      "name": "python"
    }
  },
  "cells": [
    {
      "cell_type": "markdown",
      "metadata": {
        "id": "view-in-github",
        "colab_type": "text"
      },
      "source": [
        "<a href=\"https://colab.research.google.com/github/KSG722/class2022Spring/blob/main/20220425.ipynb\" target=\"_parent\"><img src=\"https://colab.research.google.com/assets/colab-badge.svg\" alt=\"Open In Colab\"/></a>"
      ]
    },
    {
      "cell_type": "markdown",
      "source": [
        "### Auto correlation\n",
        "* measuring pitch / F0\n",
        "\n",
        "auto correlation\n",
        "시계열 자료에서 연속된 관측치들 간의 상관관계. 즉 시계열 데이터 속에 내재하는 시점 간의 연관.\n",
        "\n",
        "자료 특성 상 시계열자료(특정 기간에 결쳐 계속적인 시점에서 수량이 기록되는 자료)는 시점이 지나면 특정한 상관성을 가지는 경우가 많음. 현재의 데이터가 과거의 데이터 혹은 미래의 데이터와 연관을 가진다는 의미.\n",
        "\n",
        "예컨데, 과거의 값이 음수였다면 현재의 값이 양수를 가지려는 경향이 있고, 현재의 값이 양수라면 미래의 값이 음수가 되는 경향이 있을 수 있음. 이를 음(negative)의 자기상관이라고 부름.\n",
        "\n",
        "시계열의 시차 값 사이의 선형관계라고도 부를 수 있음.\n",
        " \n",
        "R(lag) = integrate(f(t+lag)*f(t), math.int, -math.inf)\n",
        "\n",
        "\n",
        "\n",
        "\n",
        "### RMS: Root Mean Square\n",
        "* measuring intensity\n",
        "\n",
        "Root Mean Square(RMS, 제곱평균제곱근)\n",
        "일련의 데이터 혹은 연속시간 파형의 값의 제곱들에 대한 산술평균의 제곱근.\n",
        "\n",
        "제곱을 통해 절대값화하기 때문에 변화하는 값의 크기를 나타낼 때 유용. \n",
        "\n",
        "사인함수처럼 변수들이 음과 양을 오고갈 때 크기를 나타내기 좋음. \n",
        "\n",
        "제곱평균제곱근을 식으로 나타내면\n",
        "\n",
        "X rms = sqrt( x1^2 + x2^2 + x3^2 + ... + xn^2) / n ))  <- n개의 일련의 값들일 때 식\n",
        "\n",
        "f rms = sqrt((1 / (T2-T1)) * integrate( f(t)^2,T2,T1)) <- T1와 T2 사이의 시간에서 파형의 값들의 제곱평균제곱근"
      ],
      "metadata": {
        "id": "1gsMMEn32yiZ"
      }
    },
    {
      "cell_type": "code",
      "source": [
        ""
      ],
      "metadata": {
        "id": "8-i1ViVkNtPd"
      },
      "execution_count": null,
      "outputs": []
    }
  ]
}
