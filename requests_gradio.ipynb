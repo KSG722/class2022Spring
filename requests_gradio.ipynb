{
  "nbformat": 4,
  "nbformat_minor": 0,
  "metadata": {
    "colab": {
      "name": "requests_gradio.ipynb",
      "provenance": [],
      "include_colab_link": true
    },
    "kernelspec": {
      "name": "python3",
      "display_name": "Python 3"
    },
    "language_info": {
      "name": "python"
    }
  },
  "cells": [
    {
      "cell_type": "markdown",
      "metadata": {
        "id": "view-in-github",
        "colab_type": "text"
      },
      "source": [
        "<a href=\"https://colab.research.google.com/github/KSG722/class2022Spring/blob/main/requests_gradio.ipynb\" target=\"_parent\"><img src=\"https://colab.research.google.com/assets/colab-badge.svg\" alt=\"Open In Colab\"/></a>"
      ]
    },
    {
      "cell_type": "code",
      "source": [
        "#!pip install gradio\n",
        "#import gradio as gr\n",
        "import requests\n",
        "import pandas as pd"
      ],
      "metadata": {
        "id": "8eZHGJhmqd9a"
      },
      "execution_count": 14,
      "outputs": []
    },
    {
      "cell_type": "markdown",
      "source": [
        "requests library 연결"
      ],
      "metadata": {
        "id": "4xzPUepBR1Sd"
      }
    },
    {
      "cell_type": "code",
      "source": [
        "requests.get('http://apis.data.go.kr/B552584/ArpltnStatsSvc/getCtprvnMesureLIst?itemCode=PM10&dataGubun=HOUR&pageNo=1&numOfRows=100&returnType=xml&serviceKey=서비스키')"
      ],
      "metadata": {
        "id": "1v1mop2WR6HL",
        "outputId": "53856f9f-56db-46bc-93ce-e2e6dadb5f10",
        "colab": {
          "base_uri": "https://localhost:8080/"
        }
      },
      "execution_count": 2,
      "outputs": [
        {
          "output_type": "execute_result",
          "data": {
            "text/plain": [
              "<Response [200]>"
            ]
          },
          "metadata": {},
          "execution_count": 2
        }
      ]
    },
    {
      "cell_type": "markdown",
      "source": [
        "공공데이터포털에서 한국환경공단_에어코리아_대기오염통계 서비스에서 요청메시지를 입력해 오픈 API를 가지고오는 함수"
      ],
      "metadata": {
        "id": "_MmSN7BdTXYB"
      }
    },
    {
      "cell_type": "code",
      "source": [
        "URL = ('http://apis.data.go.kr/B552584/ArpltnStatsSvc/'\n",
        "      'getCtprvnMesureSidoLIst?'\n",
        "      'sidoName=서울'\n",
        "      '&searchCondition=hour'\n",
        "      '&pageNo=1'\n",
        "      '&numOfRows=100'\n",
        "      '&returnType=json'\n",
        "      '&serviceKey=miH%2BZXg85lQy4%2FkmhffvygXDIFiTwisriSLxtyECSzw6hxTVK7yI8QKIOc7mP7LEqCnhBGuj6iW1gZW65dum7A%3D%3D')\n",
        "response = requests.get(URL)"
      ],
      "metadata": {
        "id": "lHHEwqpyJF7r"
      },
      "execution_count": 5,
      "outputs": []
    },
    {
      "cell_type": "markdown",
      "source": [
        "상동. 요청메시지를 URL이라는 변수로 두고 코드를 짤 때 가시성을 좋게 한 것. \n",
        "\n",
        "이처럼 오픈 api에서 정보를 가져오고 출력하는 방식을 rest api라고 부름.\n",
        "\n",
        "첫번째 줄은 서비스 URL. 즉 서비스를 제공해주는 URL\n",
        "\n",
        "두번째 줄은 세부적인 서비스 명령(상세기능). getCtprvnMesureLIst <- 시도별 실시간 평균정보 조회 (에어코리아_대기오염통계 서비스_기술문서_v1.0 참고). 참고로 마지막 '?'까지가 규약이므로 써줘야함.\n",
        "\n",
        "세번째 줄부터 요청 메시지 명세. 중요한 요청 메시지는 searchCondition과 returnType. 매 hour마다의 데이터를 요청하고 json타입으로 출력. serviceKey는 비밀번호같은 거."
      ],
      "metadata": {
        "id": "jcRmPtFWTqV6"
      }
    },
    {
      "cell_type": "code",
      "source": [
        "print(response)"
      ],
      "metadata": {
        "id": "z-6c-vJ-XpKZ",
        "outputId": "8ce17121-15e3-4217-ea7a-e615da362fdd",
        "colab": {
          "base_uri": "https://localhost:8080/"
        }
      },
      "execution_count": 6,
      "outputs": [
        {
          "output_type": "stream",
          "name": "stdout",
          "text": [
            "<Response [200]>\n"
          ]
        }
      ]
    },
    {
      "cell_type": "markdown",
      "source": [
        "reponse라는 변수를 출력. 200이란 값은 파이썬 문법 상 성공적으로 출력되었음을 의미."
      ],
      "metadata": {
        "id": "TJOyWKidXsbr"
      }
    },
    {
      "cell_type": "markdown",
      "source": [
        "#### http://jsonviewer.stack.hu/ (copy json here to view json)"
      ],
      "metadata": {
        "id": "faIENRyFfnY1"
      }
    },
    {
      "cell_type": "code",
      "source": [
        "r = response.json()\n",
        "r"
      ],
      "metadata": {
        "id": "JcLKwg0foR9p"
      },
      "execution_count": null,
      "outputs": []
    },
    {
      "cell_type": "markdown",
      "source": [
        "returnTpye을 json으로 정했기에 출력 데이터값을 보고싶으면 위와 같이 json을 명시해주어야함.\n",
        "\n",
        "위 함수 실행 시 서울 전역구의 대기오염 정도 데이터가 쭉 나열된다. 그러나 상당히 복잡하게 나열되어 있기에 보기가 힘듦. 따라서 결과값을 복사한 뒤에 http://jsonviewer.stack.hu/ 사이트에 입력해서 보면 편함.\n",
        "\n",
        "사이트에 들어간 후 text부분에 복사한 것을 붙여넣고 viewer로 들어가면 JSON-response-body-item에 들어가면 0부터 24까지의 목록에 차례대로 데이터가 정렬됨"
      ],
      "metadata": {
        "id": "9ErVc-SBX_bj"
      }
    },
    {
      "cell_type": "code",
      "source": [
        "items = r['response']['body']['items']\n",
        "#items\n",
        "items[1]"
      ],
      "metadata": {
        "id": "cgUUqEwjZwZv",
        "outputId": "e1c0a5dd-bfe3-489d-e030-55af99457076",
        "colab": {
          "base_uri": "https://localhost:8080/"
        }
      },
      "execution_count": 12,
      "outputs": [
        {
          "output_type": "execute_result",
          "data": {
            "text/plain": [
              "{'cityName': '강동구',\n",
              " 'cityNameEng': 'Gangdong-gu',\n",
              " 'coValue': '0.2',\n",
              " 'dataGubun': '',\n",
              " 'dataTime': '2022-03-27 16:00',\n",
              " 'districtCode': '02',\n",
              " 'districtNumSeq': '002',\n",
              " 'itemCode': '',\n",
              " 'khaiValue': '',\n",
              " 'no2Value': '0.004',\n",
              " 'numOfRows': '10',\n",
              " 'o3Value': '0.039',\n",
              " 'pageNo': '1',\n",
              " 'pm10Value': '30',\n",
              " 'pm25Value': '10',\n",
              " 'resultCode': '',\n",
              " 'resultMsg': '',\n",
              " 'returnType': 'json',\n",
              " 'searchCondition': '',\n",
              " 'serviceKey': '',\n",
              " 'sidoName': '서울',\n",
              " 'so2Value': '0.002',\n",
              " 'totalCount': ''}"
            ]
          },
          "metadata": {},
          "execution_count": 12
        }
      ]
    },
    {
      "cell_type": "markdown",
      "source": [
        "items란 변수를 r속의 response속의 body속에 items에 해당하는 데이터로 설정.\n",
        "\n",
        "위에서 보았듯이 http://jsonviewer.stack.hu/ 사이트 내의 분류에 따라 변수가 설정되고 따라서 0 ~ 24번의 데이터가 각각 따로 설정된다. 즉 구에 따라서 list로 데이터가 설정. 따라서 items[1]을 하면 2번째 데이터인 강동구 데이터가 출력됨. \n",
        "\n",
        "참고로 각각의 데이터들은 list형식으로 연결되어 있지만 각각의 데이터 요소들은 dict 형식임을 알 수 있다. { }로 연결되어 있기 때문. 예를 들어  cityName이란 Key는 강동구라는 value로 연결되어 있음\n",
        "\n",
        "이는 후술하겠지만 data frame형식의 데이터를 만들기 위한 선행작업"
      ],
      "metadata": {
        "id": "p9t3F1-IZ2Fy"
      }
    },
    {
      "cell_type": "code",
      "source": [
        "cityName = [item['cityName'] for item in items]\n",
        "pm10Value = [item['pm10Value'] for item in items]\n",
        "pm25Value = [item['pm25Value'] for item in items]\n",
        "so2Value = [item['so2Value'] for item in items]\n",
        "coValue = [item['coValue'] for item in items]\n",
        "o3Value = [item['o3Value'] for item in items]\n",
        "no2Value = [item['no2Value'] for item in items]\n",
        "\n",
        "cityName = pd.Series(cityName)\n",
        "pm10Value = pd.Series(pm10Value)   \n",
        "pm25Value = pd.Series(pm25Value)\n",
        "so2Value = pd.Series(so2Value)\n",
        "coValue = pd.Series(coValue)\n",
        "o3Value = pd.Series(o3Value)\n",
        "no2Value = pd.Series(no2Value)\n",
        "\n",
        "df = pd.DataFrame({ 'cityName': cityName, 'pm10Value': pm10Value, 'pm25Value': pm25Value, 'so2Value': so2Value, 'coValue': coValue, 'o3Value': o3Value, 'no2Value': no2Value})"
      ],
      "metadata": {
        "id": "W8lA0-IzE55W"
      },
      "execution_count": 19,
      "outputs": []
    },
    {
      "cell_type": "markdown",
      "source": [
        "cityName이란 변수 :\n",
        "\n",
        "1. for item in items : items에 있는 정보들을 item안에 넣는다. 총 25번 돌림.\n",
        "2. item['cityName'] : item안에 반복되며 들어온 정보 중 Key가 cityName에 해당하는 정보들을 cityName이란 변수로 넣겠다.\n",
        "\n",
        "그리고 그 밑에서 다시 cityName을 정의. cityName 정보들을 시리즈 함수로 넣어 column으로 정의한 변수.\n",
        "\n",
        "마지막에 dataframe으로 정렬."
      ],
      "metadata": {
        "id": "HogV5vHSZRw9"
      }
    },
    {
      "cell_type": "code",
      "source": [
        "print(df)"
      ],
      "metadata": {
        "id": "HJo1oK1-ees6",
        "outputId": "aab2332e-7a06-408a-bde7-0aa06d219e12",
        "colab": {
          "base_uri": "https://localhost:8080/"
        }
      },
      "execution_count": 20,
      "outputs": [
        {
          "output_type": "stream",
          "name": "stdout",
          "text": [
            "   cityName pm10Value pm25Value so2Value coValue o3Value no2Value\n",
            "0       강남구        24         8    0.003     0.3   0.048    0.006\n",
            "1       강동구        30        10    0.002     0.2   0.039    0.004\n",
            "2       강북구        24         8    0.002     0.2   0.047    0.003\n",
            "3       강서구        21         7    0.003     0.3   0.048    0.006\n",
            "4       관악구        19         6    0.003     0.3   0.048    0.008\n",
            "5       광진구        29         9    0.004     0.2   0.049    0.006\n",
            "6       구로구        37        12    0.003     0.3   0.045    0.006\n",
            "7       금천구        22         6    0.003     0.3   0.050    0.008\n",
            "8       노원구        30        13    0.002     0.3   0.047    0.004\n",
            "9       도봉구        17         8    0.003     0.2   0.046    0.004\n",
            "10     동대문구        26         9    0.003     0.2   0.051    0.006\n",
            "11      동작구                  11    0.003     0.2   0.049    0.006\n",
            "12      마포구        24         7    0.002     0.2   0.050    0.009\n",
            "13     서대문구        17         4    0.002     0.3   0.051    0.005\n",
            "14      서초구        31        11    0.002     0.3   0.047    0.006\n",
            "15      성동구        26         9    0.002     0.2   0.035    0.006\n",
            "16      성북구        19         5    0.002     0.2   0.046    0.006\n",
            "17      송파구        36        13    0.003     0.3   0.049    0.010\n",
            "18      양천구        22         9    0.003     0.3   0.045    0.007\n",
            "19     영등포구        20         8    0.003     0.3   0.045    0.007\n",
            "20      용산구        27        11    0.003     0.2   0.043    0.007\n",
            "21      은평구        15         8    0.002     0.3   0.047    0.007\n",
            "22      종로구        24         9    0.003     0.3   0.049    0.006\n",
            "23       중구        20         9    0.003     0.3   0.052    0.006\n",
            "24      중랑구        25        10    0.003     0.2   0.048    0.006\n"
          ]
        }
      ]
    },
    {
      "cell_type": "markdown",
      "source": [
        "위에서 한 작업 print"
      ],
      "metadata": {
        "id": "pUo_ZPQ9ehIv"
      }
    },
    {
      "cell_type": "code",
      "source": [
        "def test(sidoName):\n",
        "  URL = ('http://apis.data.go.kr/B552584/ArpltnStatsSvc/'\n",
        "      'getCtprvnMesureSidoLIst?'\n",
        "      'sidoName='+sidoName+\n",
        "      '&searchCondition=hour'\n",
        "      '&pageNo=1'\n",
        "      '&numOfRows=100'\n",
        "      '&returnType=json'\n",
        "      '&serviceKey=miH%2BZXg85lQy4%2FkmhffvygXDIFiTwisriSLxtyECSzw6hxTVK7yI8QKIOc7mP7LEqCnhBGuj6iW1gZW65dum7A%3D%3D')\n",
        "  \n",
        "  response = requests.get(URL)\n",
        "  r = response.json()\n",
        "  items = r['response']['body']['items']\n",
        "\n",
        "  cityName = [item['cityName'] for item in items]\n",
        "  pm10Value = [item['pm10Value'] for item in items]\n",
        "  pm25Value = [item['pm25Value'] for item in items]\n",
        "  so2Value = [item['so2Value'] for item in items]\n",
        "  coValue = [item['coValue'] for item in items]\n",
        "  o3Value = [item['o3Value'] for item in items]\n",
        "  no2Value = [item['no2Value'] for item in items]\n",
        "\n",
        "  pd_cityName = pd.Series(cityName)\n",
        "  pd_pm10Value = pd.Series(pm10Value)   \n",
        "  pd_pm25Value = pd.Series(pm25Value)\n",
        "  so2Value = pd.Series(so2Value)\n",
        "  coValue = pd.Series(coValue)\n",
        "  o3Value = pd.Series(o3Value)\n",
        "  no2Value = pd.Series(no2Value)\n",
        "\n",
        "  df = pd.DataFrame({ 'cityName': cityName, 'pm10Value': pm10Value, 'pm25Value': pm25Value, 'so2Value': so2Value, 'coValue': coValue, 'o3Value': o3Value, 'no2Value': no2Value})\n",
        "  return df"
      ],
      "metadata": {
        "id": "xa2Gb_qsm_G5"
      },
      "execution_count": 22,
      "outputs": []
    },
    {
      "cell_type": "code",
      "source": [
        "df"
      ],
      "metadata": {
        "id": "FJwAcsptgOVQ",
        "outputId": "4cb762bf-dbf8-4bee-8dbe-b515bfa6ac4c",
        "colab": {
          "base_uri": "https://localhost:8080/",
          "height": 833
        }
      },
      "execution_count": 25,
      "outputs": [
        {
          "output_type": "execute_result",
          "data": {
            "text/plain": [
              "   cityName pm10Value pm25Value so2Value coValue o3Value no2Value\n",
              "0       강남구        24         8    0.003     0.3   0.048    0.006\n",
              "1       강동구        30        10    0.002     0.2   0.039    0.004\n",
              "2       강북구        24         8    0.002     0.2   0.047    0.003\n",
              "3       강서구        21         7    0.003     0.3   0.048    0.006\n",
              "4       관악구        19         6    0.003     0.3   0.048    0.008\n",
              "5       광진구        29         9    0.004     0.2   0.049    0.006\n",
              "6       구로구        37        12    0.003     0.3   0.045    0.006\n",
              "7       금천구        22         6    0.003     0.3   0.050    0.008\n",
              "8       노원구        30        13    0.002     0.3   0.047    0.004\n",
              "9       도봉구        17         8    0.003     0.2   0.046    0.004\n",
              "10     동대문구        26         9    0.003     0.2   0.051    0.006\n",
              "11      동작구                  11    0.003     0.2   0.049    0.006\n",
              "12      마포구        24         7    0.002     0.2   0.050    0.009\n",
              "13     서대문구        17         4    0.002     0.3   0.051    0.005\n",
              "14      서초구        31        11    0.002     0.3   0.047    0.006\n",
              "15      성동구        26         9    0.002     0.2   0.035    0.006\n",
              "16      성북구        19         5    0.002     0.2   0.046    0.006\n",
              "17      송파구        36        13    0.003     0.3   0.049    0.010\n",
              "18      양천구        22         9    0.003     0.3   0.045    0.007\n",
              "19     영등포구        20         8    0.003     0.3   0.045    0.007\n",
              "20      용산구        27        11    0.003     0.2   0.043    0.007\n",
              "21      은평구        15         8    0.002     0.3   0.047    0.007\n",
              "22      종로구        24         9    0.003     0.3   0.049    0.006\n",
              "23       중구        20         9    0.003     0.3   0.052    0.006\n",
              "24      중랑구        25        10    0.003     0.2   0.048    0.006"
            ],
            "text/html": [
              "\n",
              "  <div id=\"df-4cb4354a-e5dc-4e0d-ba07-8aac71b8db3f\">\n",
              "    <div class=\"colab-df-container\">\n",
              "      <div>\n",
              "<style scoped>\n",
              "    .dataframe tbody tr th:only-of-type {\n",
              "        vertical-align: middle;\n",
              "    }\n",
              "\n",
              "    .dataframe tbody tr th {\n",
              "        vertical-align: top;\n",
              "    }\n",
              "\n",
              "    .dataframe thead th {\n",
              "        text-align: right;\n",
              "    }\n",
              "</style>\n",
              "<table border=\"1\" class=\"dataframe\">\n",
              "  <thead>\n",
              "    <tr style=\"text-align: right;\">\n",
              "      <th></th>\n",
              "      <th>cityName</th>\n",
              "      <th>pm10Value</th>\n",
              "      <th>pm25Value</th>\n",
              "      <th>so2Value</th>\n",
              "      <th>coValue</th>\n",
              "      <th>o3Value</th>\n",
              "      <th>no2Value</th>\n",
              "    </tr>\n",
              "  </thead>\n",
              "  <tbody>\n",
              "    <tr>\n",
              "      <th>0</th>\n",
              "      <td>강남구</td>\n",
              "      <td>24</td>\n",
              "      <td>8</td>\n",
              "      <td>0.003</td>\n",
              "      <td>0.3</td>\n",
              "      <td>0.048</td>\n",
              "      <td>0.006</td>\n",
              "    </tr>\n",
              "    <tr>\n",
              "      <th>1</th>\n",
              "      <td>강동구</td>\n",
              "      <td>30</td>\n",
              "      <td>10</td>\n",
              "      <td>0.002</td>\n",
              "      <td>0.2</td>\n",
              "      <td>0.039</td>\n",
              "      <td>0.004</td>\n",
              "    </tr>\n",
              "    <tr>\n",
              "      <th>2</th>\n",
              "      <td>강북구</td>\n",
              "      <td>24</td>\n",
              "      <td>8</td>\n",
              "      <td>0.002</td>\n",
              "      <td>0.2</td>\n",
              "      <td>0.047</td>\n",
              "      <td>0.003</td>\n",
              "    </tr>\n",
              "    <tr>\n",
              "      <th>3</th>\n",
              "      <td>강서구</td>\n",
              "      <td>21</td>\n",
              "      <td>7</td>\n",
              "      <td>0.003</td>\n",
              "      <td>0.3</td>\n",
              "      <td>0.048</td>\n",
              "      <td>0.006</td>\n",
              "    </tr>\n",
              "    <tr>\n",
              "      <th>4</th>\n",
              "      <td>관악구</td>\n",
              "      <td>19</td>\n",
              "      <td>6</td>\n",
              "      <td>0.003</td>\n",
              "      <td>0.3</td>\n",
              "      <td>0.048</td>\n",
              "      <td>0.008</td>\n",
              "    </tr>\n",
              "    <tr>\n",
              "      <th>5</th>\n",
              "      <td>광진구</td>\n",
              "      <td>29</td>\n",
              "      <td>9</td>\n",
              "      <td>0.004</td>\n",
              "      <td>0.2</td>\n",
              "      <td>0.049</td>\n",
              "      <td>0.006</td>\n",
              "    </tr>\n",
              "    <tr>\n",
              "      <th>6</th>\n",
              "      <td>구로구</td>\n",
              "      <td>37</td>\n",
              "      <td>12</td>\n",
              "      <td>0.003</td>\n",
              "      <td>0.3</td>\n",
              "      <td>0.045</td>\n",
              "      <td>0.006</td>\n",
              "    </tr>\n",
              "    <tr>\n",
              "      <th>7</th>\n",
              "      <td>금천구</td>\n",
              "      <td>22</td>\n",
              "      <td>6</td>\n",
              "      <td>0.003</td>\n",
              "      <td>0.3</td>\n",
              "      <td>0.050</td>\n",
              "      <td>0.008</td>\n",
              "    </tr>\n",
              "    <tr>\n",
              "      <th>8</th>\n",
              "      <td>노원구</td>\n",
              "      <td>30</td>\n",
              "      <td>13</td>\n",
              "      <td>0.002</td>\n",
              "      <td>0.3</td>\n",
              "      <td>0.047</td>\n",
              "      <td>0.004</td>\n",
              "    </tr>\n",
              "    <tr>\n",
              "      <th>9</th>\n",
              "      <td>도봉구</td>\n",
              "      <td>17</td>\n",
              "      <td>8</td>\n",
              "      <td>0.003</td>\n",
              "      <td>0.2</td>\n",
              "      <td>0.046</td>\n",
              "      <td>0.004</td>\n",
              "    </tr>\n",
              "    <tr>\n",
              "      <th>10</th>\n",
              "      <td>동대문구</td>\n",
              "      <td>26</td>\n",
              "      <td>9</td>\n",
              "      <td>0.003</td>\n",
              "      <td>0.2</td>\n",
              "      <td>0.051</td>\n",
              "      <td>0.006</td>\n",
              "    </tr>\n",
              "    <tr>\n",
              "      <th>11</th>\n",
              "      <td>동작구</td>\n",
              "      <td></td>\n",
              "      <td>11</td>\n",
              "      <td>0.003</td>\n",
              "      <td>0.2</td>\n",
              "      <td>0.049</td>\n",
              "      <td>0.006</td>\n",
              "    </tr>\n",
              "    <tr>\n",
              "      <th>12</th>\n",
              "      <td>마포구</td>\n",
              "      <td>24</td>\n",
              "      <td>7</td>\n",
              "      <td>0.002</td>\n",
              "      <td>0.2</td>\n",
              "      <td>0.050</td>\n",
              "      <td>0.009</td>\n",
              "    </tr>\n",
              "    <tr>\n",
              "      <th>13</th>\n",
              "      <td>서대문구</td>\n",
              "      <td>17</td>\n",
              "      <td>4</td>\n",
              "      <td>0.002</td>\n",
              "      <td>0.3</td>\n",
              "      <td>0.051</td>\n",
              "      <td>0.005</td>\n",
              "    </tr>\n",
              "    <tr>\n",
              "      <th>14</th>\n",
              "      <td>서초구</td>\n",
              "      <td>31</td>\n",
              "      <td>11</td>\n",
              "      <td>0.002</td>\n",
              "      <td>0.3</td>\n",
              "      <td>0.047</td>\n",
              "      <td>0.006</td>\n",
              "    </tr>\n",
              "    <tr>\n",
              "      <th>15</th>\n",
              "      <td>성동구</td>\n",
              "      <td>26</td>\n",
              "      <td>9</td>\n",
              "      <td>0.002</td>\n",
              "      <td>0.2</td>\n",
              "      <td>0.035</td>\n",
              "      <td>0.006</td>\n",
              "    </tr>\n",
              "    <tr>\n",
              "      <th>16</th>\n",
              "      <td>성북구</td>\n",
              "      <td>19</td>\n",
              "      <td>5</td>\n",
              "      <td>0.002</td>\n",
              "      <td>0.2</td>\n",
              "      <td>0.046</td>\n",
              "      <td>0.006</td>\n",
              "    </tr>\n",
              "    <tr>\n",
              "      <th>17</th>\n",
              "      <td>송파구</td>\n",
              "      <td>36</td>\n",
              "      <td>13</td>\n",
              "      <td>0.003</td>\n",
              "      <td>0.3</td>\n",
              "      <td>0.049</td>\n",
              "      <td>0.010</td>\n",
              "    </tr>\n",
              "    <tr>\n",
              "      <th>18</th>\n",
              "      <td>양천구</td>\n",
              "      <td>22</td>\n",
              "      <td>9</td>\n",
              "      <td>0.003</td>\n",
              "      <td>0.3</td>\n",
              "      <td>0.045</td>\n",
              "      <td>0.007</td>\n",
              "    </tr>\n",
              "    <tr>\n",
              "      <th>19</th>\n",
              "      <td>영등포구</td>\n",
              "      <td>20</td>\n",
              "      <td>8</td>\n",
              "      <td>0.003</td>\n",
              "      <td>0.3</td>\n",
              "      <td>0.045</td>\n",
              "      <td>0.007</td>\n",
              "    </tr>\n",
              "    <tr>\n",
              "      <th>20</th>\n",
              "      <td>용산구</td>\n",
              "      <td>27</td>\n",
              "      <td>11</td>\n",
              "      <td>0.003</td>\n",
              "      <td>0.2</td>\n",
              "      <td>0.043</td>\n",
              "      <td>0.007</td>\n",
              "    </tr>\n",
              "    <tr>\n",
              "      <th>21</th>\n",
              "      <td>은평구</td>\n",
              "      <td>15</td>\n",
              "      <td>8</td>\n",
              "      <td>0.002</td>\n",
              "      <td>0.3</td>\n",
              "      <td>0.047</td>\n",
              "      <td>0.007</td>\n",
              "    </tr>\n",
              "    <tr>\n",
              "      <th>22</th>\n",
              "      <td>종로구</td>\n",
              "      <td>24</td>\n",
              "      <td>9</td>\n",
              "      <td>0.003</td>\n",
              "      <td>0.3</td>\n",
              "      <td>0.049</td>\n",
              "      <td>0.006</td>\n",
              "    </tr>\n",
              "    <tr>\n",
              "      <th>23</th>\n",
              "      <td>중구</td>\n",
              "      <td>20</td>\n",
              "      <td>9</td>\n",
              "      <td>0.003</td>\n",
              "      <td>0.3</td>\n",
              "      <td>0.052</td>\n",
              "      <td>0.006</td>\n",
              "    </tr>\n",
              "    <tr>\n",
              "      <th>24</th>\n",
              "      <td>중랑구</td>\n",
              "      <td>25</td>\n",
              "      <td>10</td>\n",
              "      <td>0.003</td>\n",
              "      <td>0.2</td>\n",
              "      <td>0.048</td>\n",
              "      <td>0.006</td>\n",
              "    </tr>\n",
              "  </tbody>\n",
              "</table>\n",
              "</div>\n",
              "      <button class=\"colab-df-convert\" onclick=\"convertToInteractive('df-4cb4354a-e5dc-4e0d-ba07-8aac71b8db3f')\"\n",
              "              title=\"Convert this dataframe to an interactive table.\"\n",
              "              style=\"display:none;\">\n",
              "        \n",
              "  <svg xmlns=\"http://www.w3.org/2000/svg\" height=\"24px\"viewBox=\"0 0 24 24\"\n",
              "       width=\"24px\">\n",
              "    <path d=\"M0 0h24v24H0V0z\" fill=\"none\"/>\n",
              "    <path d=\"M18.56 5.44l.94 2.06.94-2.06 2.06-.94-2.06-.94-.94-2.06-.94 2.06-2.06.94zm-11 1L8.5 8.5l.94-2.06 2.06-.94-2.06-.94L8.5 2.5l-.94 2.06-2.06.94zm10 10l.94 2.06.94-2.06 2.06-.94-2.06-.94-.94-2.06-.94 2.06-2.06.94z\"/><path d=\"M17.41 7.96l-1.37-1.37c-.4-.4-.92-.59-1.43-.59-.52 0-1.04.2-1.43.59L10.3 9.45l-7.72 7.72c-.78.78-.78 2.05 0 2.83L4 21.41c.39.39.9.59 1.41.59.51 0 1.02-.2 1.41-.59l7.78-7.78 2.81-2.81c.8-.78.8-2.07 0-2.86zM5.41 20L4 18.59l7.72-7.72 1.47 1.35L5.41 20z\"/>\n",
              "  </svg>\n",
              "      </button>\n",
              "      \n",
              "  <style>\n",
              "    .colab-df-container {\n",
              "      display:flex;\n",
              "      flex-wrap:wrap;\n",
              "      gap: 12px;\n",
              "    }\n",
              "\n",
              "    .colab-df-convert {\n",
              "      background-color: #E8F0FE;\n",
              "      border: none;\n",
              "      border-radius: 50%;\n",
              "      cursor: pointer;\n",
              "      display: none;\n",
              "      fill: #1967D2;\n",
              "      height: 32px;\n",
              "      padding: 0 0 0 0;\n",
              "      width: 32px;\n",
              "    }\n",
              "\n",
              "    .colab-df-convert:hover {\n",
              "      background-color: #E2EBFA;\n",
              "      box-shadow: 0px 1px 2px rgba(60, 64, 67, 0.3), 0px 1px 3px 1px rgba(60, 64, 67, 0.15);\n",
              "      fill: #174EA6;\n",
              "    }\n",
              "\n",
              "    [theme=dark] .colab-df-convert {\n",
              "      background-color: #3B4455;\n",
              "      fill: #D2E3FC;\n",
              "    }\n",
              "\n",
              "    [theme=dark] .colab-df-convert:hover {\n",
              "      background-color: #434B5C;\n",
              "      box-shadow: 0px 1px 3px 1px rgba(0, 0, 0, 0.15);\n",
              "      filter: drop-shadow(0px 1px 2px rgba(0, 0, 0, 0.3));\n",
              "      fill: #FFFFFF;\n",
              "    }\n",
              "  </style>\n",
              "\n",
              "      <script>\n",
              "        const buttonEl =\n",
              "          document.querySelector('#df-4cb4354a-e5dc-4e0d-ba07-8aac71b8db3f button.colab-df-convert');\n",
              "        buttonEl.style.display =\n",
              "          google.colab.kernel.accessAllowed ? 'block' : 'none';\n",
              "\n",
              "        async function convertToInteractive(key) {\n",
              "          const element = document.querySelector('#df-4cb4354a-e5dc-4e0d-ba07-8aac71b8db3f');\n",
              "          const dataTable =\n",
              "            await google.colab.kernel.invokeFunction('convertToInteractive',\n",
              "                                                     [key], {});\n",
              "          if (!dataTable) return;\n",
              "\n",
              "          const docLinkHtml = 'Like what you see? Visit the ' +\n",
              "            '<a target=\"_blank\" href=https://colab.research.google.com/notebooks/data_table.ipynb>data table notebook</a>'\n",
              "            + ' to learn more about interactive tables.';\n",
              "          element.innerHTML = '';\n",
              "          dataTable['output_type'] = 'display_data';\n",
              "          await google.colab.output.renderOutput(dataTable, element);\n",
              "          const docLink = document.createElement('div');\n",
              "          docLink.innerHTML = docLinkHtml;\n",
              "          element.appendChild(docLink);\n",
              "        }\n",
              "      </script>\n",
              "    </div>\n",
              "  </div>\n",
              "  "
            ]
          },
          "metadata": {},
          "execution_count": 25
        }
      ]
    },
    {
      "cell_type": "markdown",
      "source": [
        "다시 실행"
      ],
      "metadata": {
        "id": "WN_fl7MWfpdJ"
      }
    },
    {
      "cell_type": "code",
      "source": [
        "!pip install gradio\n",
        "import gradio as gr"
      ],
      "metadata": {
        "id": "AAcSWk_Gfx0Y"
      },
      "execution_count": null,
      "outputs": []
    },
    {
      "cell_type": "markdown",
      "source": [
        "gradio라는 번들은 pandas 등과 다르게 컴퓨터 내에 없음\n",
        "따라서 install과정을 거친 후 ram으로 import해옴"
      ],
      "metadata": {
        "id": "7-W3h34hfzyl"
      }
    },
    {
      "cell_type": "code",
      "source": [
        "iface = gr.Interface(test, gr.inputs.Dropdown(['서울', '부산', '대구', '인천', '광주', '대전', '울산', '경기', '강원', '충북', '충남', '전북', '전남', '경북', '경남', '제주', '세종']), outputs=['dataframe'])\n",
        "iface.launch(debug=True)"
      ],
      "metadata": {
        "id": "kxORJVPOnDSP",
        "outputId": "a4e669b8-fda1-4d36-9c19-9c9511a08672",
        "colab": {
          "base_uri": "https://localhost:8080/",
          "height": 687
        }
      },
      "execution_count": 24,
      "outputs": [
        {
          "output_type": "stream",
          "name": "stdout",
          "text": [
            "Colab notebook detected. This cell will run indefinitely so that you can see errors and logs. To turn off, set debug=False in launch().\n",
            "Running on public URL: https://59962.gradio.app\n",
            "\n",
            "This share link expires in 72 hours. For free permanent hosting, check out Spaces (https://huggingface.co/spaces)\n"
          ]
        },
        {
          "output_type": "display_data",
          "data": {
            "text/plain": [
              "<IPython.lib.display.IFrame at 0x7f6690526a50>"
            ],
            "text/html": [
              "\n",
              "        <iframe\n",
              "            width=\"900\"\n",
              "            height=\"500\"\n",
              "            src=\"https://59962.gradio.app\"\n",
              "            frameborder=\"0\"\n",
              "            allowfullscreen\n",
              "        ></iframe>\n",
              "        "
            ]
          },
          "metadata": {}
        },
        {
          "output_type": "stream",
          "name": "stdout",
          "text": [
            "Keyboard interruption in main thread... closing server.\n"
          ]
        },
        {
          "output_type": "execute_result",
          "data": {
            "text/plain": [
              "(<fastapi.applications.FastAPI at 0x7f668b5dbb10>,\n",
              " 'http://127.0.0.1:7860/',\n",
              " 'https://59962.gradio.app')"
            ]
          },
          "metadata": {},
          "execution_count": 24
        }
      ]
    },
    {
      "cell_type": "markdown",
      "source": [
        "gradio로 데이터프레임 만들기"
      ],
      "metadata": {
        "id": "usDlpqgngHEC"
      }
    }
  ]
}