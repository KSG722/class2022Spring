{
  "nbformat": 4,
  "nbformat_minor": 0,
  "metadata": {
    "colab": {
      "name": "tensorflow_hub.ipynb",
      "provenance": [],
      "include_colab_link": true
    },
    "kernelspec": {
      "name": "python3",
      "display_name": "Python 3"
    },
    "language_info": {
      "name": "python"
    }
  },
  "cells": [
    {
      "cell_type": "markdown",
      "metadata": {
        "id": "view-in-github",
        "colab_type": "text"
      },
      "source": [
        "<a href=\"https://colab.research.google.com/github/KSG722/class2022Spring/blob/main/tensorflow_hub.ipynb\" target=\"_parent\"><img src=\"https://colab.research.google.com/assets/colab-badge.svg\" alt=\"Open In Colab\"/></a>"
      ]
    },
    {
      "cell_type": "markdown",
      "source": [
        "### [Tensorflow Hub](https://www.tensorflow.org/hub)"
      ],
      "metadata": {
        "id": "8dnF4rJPatAo"
      }
    },
    {
      "cell_type": "markdown",
      "source": [
        "#tensorflow와 pytorch\n",
        "\n",
        "python을 기반으로 한 함수 packages의 일종. tensorflow는 google, pytorch는 facebook에서 만듦. ai 함수들을 모아 놓은 pacakges. 똑같은 알고리즘 기반의 AI models. \n",
        "\n",
        "tensorflow : 휴대폰에 넣고 속도를 빠르게 할 수 있음. Lite. 경량화. 인더스트리 기반.\n",
        "\n",
        "Torch : 연구 리서치 기반.\n",
        "\n",
        "그리고 이 모델들을 모아놓은 곳이 huggingface. 혹은 tensorflw hub 혹은 pytorch hub에 들어가도 모델이 있음.\n",
        "\n"
      ],
      "metadata": {
        "id": "lBIaxWPtOKyS"
      }
    },
    {
      "cell_type": "markdown",
      "source": [
        "### image classification (e.g. [inception_v3](https://tfhub.dev/google/imagenet/inception_v3/classification/5))"
      ],
      "metadata": {
        "id": "soPd171Hbbma"
      }
    },
    {
      "cell_type": "markdown",
      "source": [
        "tensorflow에 있는 image classification 모델. 이처럼 tensorflow hub에 있는 이미 trained된 머신 러닝 모델을 reuse할 수 있음.\n",
        "\n",
        "fine-tuning : 기존의 pretrained된 모델, 이미 훈련된 모델에 새로운 훈련을 가미해 더욱 확장된 모델로 만드는 것.\n",
        "\n",
        "ai model은 input vector-> 행렬(함수) -> output vector의 형태이고 이를 훈련시키기 위해서는 초기에 input vector와 output vector를 넣어서 matrix를 형성해주어야 한다.\n",
        "\n",
        "예컨데, 강아지 사진 x matrix = \"dog\", 꽃 사진 x matirx = \"flower\"이 되도록 방정식을 풀어 matrix를 찾는 과정이 훈련.\n",
        "\n",
        "이러한 훈련이 완료되면 pretrained model이 되어 이 곳 저 곳에 적용이 가능한데, 내 데이터로 추가 훈련을 해줘 모델을 확장시키는 것이 fine-tuning.\n",
        "\n",
        "deployable : fine-tuning말고 바로 그냥 써도 됨. pre-trained이기 때문에 ㅇㅇ."
      ],
      "metadata": {
        "id": "kJbGOmKgPMGC"
      }
    },
    {
      "cell_type": "code",
      "source": [
        "import tensorflow.compat.v2 as tf\n",
        "import tensorflow_hub as hub"
      ],
      "metadata": {
        "id": "VIJXaAwQ9lXX"
      },
      "execution_count": null,
      "outputs": []
    },
    {
      "cell_type": "markdown",
      "source": [
        "tensorflow hub에 있는 package 가져오기"
      ],
      "metadata": {
        "id": "uEgUo02yR3rA"
      }
    },
    {
      "cell_type": "code",
      "source": [
        "model = hub.KerasLayer(\"https://tfhub.dev/google/imagenet/inception_v3/classification/5\")"
      ],
      "metadata": {
        "id": "vmzDkBCZZMF-"
      },
      "execution_count": null,
      "outputs": []
    },
    {
      "cell_type": "markdown",
      "source": [
        "model에 해당 rul에 있는 함수 설정 : iamge classification 함수"
      ],
      "metadata": {
        "id": "Ntr8zRTESG8R"
      }
    },
    {
      "cell_type": "code",
      "source": [
        "from PIL import Image\n",
        "import requests\n",
        "url = 'http://images.cocodataset.org/val2017/000000039769.jpg'\n",
        "image = Image.open(requests.get(url, stream=True).raw)"
      ],
      "metadata": {
        "id": "f3ztc_fNX79F"
      },
      "execution_count": null,
      "outputs": []
    },
    {
      "cell_type": "markdown",
      "source": [
        "해당 url에 있는 이미지 가져오기"
      ],
      "metadata": {
        "id": "ozi2V15_Sp1v"
      }
    },
    {
      "cell_type": "code",
      "source": [
        "import numpy as np\n",
        "image = np.array(image)\n",
        "# reshape into shape [batch_size, height, width, num_channels]\n",
        "image = tf.reshape(image, [1, image.shape[0], image.shape[1], image.shape[2]])\n",
        "# Use `convert_image_dtype` to convert to floats in the [0,1] range.\n",
        "image = tf.image.convert_image_dtype(image, tf.float32)"
      ],
      "metadata": {
        "id": "Bqm9LV1rC4eK"
      },
      "execution_count": null,
      "outputs": []
    },
    {
      "cell_type": "markdown",
      "source": [
        "image = np.array(image) \n",
        "\n",
        "->이미지를 np.array로 숫자화.\n",
        "\n",
        "\n",
        "image = tf.reshape(image, [**1**, image.shape[0], image.shape[1], image.shape[2]])\n",
        "\n",
        "-> 3차원인 array를 4차원으로 변경. 분류를 용이하게 하기 위해. 그림이 한 장이라서 1이라고 설정. 그림이 n개일 때 n으로 설정해줘야함.\n",
        "\n",
        "image = tf.image.convert_image_dtype(image, tf.float32)\n",
        "\n",
        "-> array의 숫자들 중 밝기를 나타내는 숫자들을 0과 1 사이로 표준화. RGB의 값들은 0부터 255까지로 되어있기 때문에 표준화해줘야함. 모델이 0부터 1사이의 range로 훈련되어 있기 때문."
      ],
      "metadata": {
        "id": "g0H_JgqdSrt4"
      }
    },
    {
      "cell_type": "code",
      "source": [
        "logits = model(image)\n",
        "np.argmax(logits)"
      ],
      "metadata": {
        "id": "CRUy_pik9m3o"
      },
      "execution_count": null,
      "outputs": []
    },
    {
      "cell_type": "markdown",
      "source": [
        "model함수 : image를 입력으로 받아서 출력을 뱉어줌.\n",
        "\n",
        "-> 282"
      ],
      "metadata": {
        "id": "G-HmRm_cTWQg"
      }
    },
    {
      "cell_type": "markdown",
      "source": [
        "> https://storage.googleapis.com/download.tensorflow.org/data/ImageNetLabels.txt"
      ],
      "metadata": {
        "id": "p7zLDQqWaGii"
      }
    },
    {
      "cell_type": "markdown",
      "source": [
        "위에서 본 모델이 훈련한 데이터들.\n",
        "\n",
        "그림 -> matrix -> label으로 훈련하는데 logits을 보면 약 1000개의 데이터들로 훈련했다는 것을 알 수 있음.\n",
        "\n",
        "즉 우리가 넣어준 image는 그 중 282(283번째) 훈련 데이터와 가장 유사하다는 것. -> tabby(고양이)"
      ],
      "metadata": {
        "id": "JrNVSRrOUla-"
      }
    }
  ]
}