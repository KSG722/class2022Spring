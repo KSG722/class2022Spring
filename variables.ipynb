{
  "nbformat": 4,
  "nbformat_minor": 0,
  "metadata": {
    "kernelspec": {
      "display_name": "Python 3",
      "language": "python",
      "name": "python3"
    },
    "language_info": {
      "codemirror_mode": {
        "name": "ipython",
        "version": 3
      },
      "file_extension": ".py",
      "mimetype": "text/x-python",
      "name": "python",
      "nbconvert_exporter": "python",
      "pygments_lexer": "ipython3",
      "version": "3.7.1"
    },
    "colab": {
      "name": "variables.ipynb의 사본",
      "provenance": [],
      "include_colab_link": true
    }
  },
  "cells": [
    {
      "cell_type": "markdown",
      "metadata": {
        "id": "view-in-github",
        "colab_type": "text"
      },
      "source": [
        "<a href=\"https://colab.research.google.com/github/KSG722/class2022Spring/blob/main/variables.ipynb\" target=\"_parent\"><img src=\"https://colab.research.google.com/assets/colab-badge.svg\" alt=\"Open In Colab\"/></a>"
      ]
    },
    {
      "cell_type": "code",
      "metadata": {
        "id": "goAyoU7vRheI",
        "outputId": "8006b22a-0d69-4f64-b5b1-718424a82608",
        "colab": {
          "base_uri": "https://localhost:8080/"
        }
      },
      "source": [
        "a = 1; print(type(a))"
      ],
      "execution_count": null,
      "outputs": [
        {
          "output_type": "stream",
          "name": "stdout",
          "text": [
            "<class 'int'>\n"
          ]
        }
      ]
    },
    {
      "cell_type": "markdown",
      "source": [
        "int는 정수(소수점 아래 숫자 없음)"
      ],
      "metadata": {
        "id": "bTymA2imPV5V"
      }
    },
    {
      "cell_type": "code",
      "source": [
        "b=1"
      ],
      "metadata": {
        "id": "OFIXsjWjKbzu"
      },
      "execution_count": null,
      "outputs": []
    },
    {
      "cell_type": "code",
      "source": [
        "print(1)"
      ],
      "metadata": {
        "id": "sSCK7BTPKpSd",
        "outputId": "431b833e-5caa-492a-b175-2e826e01097b",
        "colab": {
          "base_uri": "https://localhost:8080/"
        }
      },
      "execution_count": null,
      "outputs": [
        {
          "output_type": "stream",
          "name": "stdout",
          "text": [
            "1\n"
          ]
        }
      ]
    },
    {
      "cell_type": "code",
      "source": [
        "print(type(a))"
      ],
      "metadata": {
        "id": "Nl6BQ0CNKrAg",
        "outputId": "5882d639-0ccf-4127-cfae-22c323ea2666",
        "colab": {
          "base_uri": "https://localhost:8080/"
        }
      },
      "execution_count": null,
      "outputs": [
        {
          "output_type": "stream",
          "name": "stdout",
          "text": [
            "<class 'int'>\n"
          ]
        }
      ]
    },
    {
      "cell_type": "code",
      "source": [
        "b=3"
      ],
      "metadata": {
        "id": "fq1o3VsHKve0"
      },
      "execution_count": null,
      "outputs": []
    },
    {
      "cell_type": "code",
      "metadata": {
        "id": "txxnoqJuRheJ",
        "outputId": "e96bd8a5-ff9f-418d-ebb9-d272351e66bd",
        "colab": {
          "base_uri": "https://localhost:8080/"
        }
      },
      "source": [
        "a = 1.1; print(type(a))"
      ],
      "execution_count": null,
      "outputs": [
        {
          "output_type": "stream",
          "name": "stdout",
          "text": [
            "<class 'float'>\n"
          ]
        }
      ]
    },
    {
      "cell_type": "markdown",
      "source": [
        "float는 숫자인데 소수점 아래가 있는 수"
      ],
      "metadata": {
        "id": "ocJkLWhfPSpK"
      }
    },
    {
      "cell_type": "code",
      "metadata": {
        "id": "SyP0PB86RheL",
        "outputId": "f7e49015-6334-48f2-8ca3-c93ad7135fe2",
        "colab": {
          "base_uri": "https://localhost:8080/"
        }
      },
      "source": [
        "a = '123'; print(type(a)); print(a[1])"
      ],
      "execution_count": null,
      "outputs": [
        {
          "output_type": "stream",
          "name": "stdout",
          "text": [
            "<class 'str'>\n",
            "2\n"
          ]
        }
      ]
    },
    {
      "cell_type": "code",
      "metadata": {
        "id": "EKYj0dvIHPo0",
        "outputId": "0ad988c7-818e-4568-ed41-472d48379e96",
        "colab": {
          "base_uri": "https://localhost:8080/"
        }
      },
      "source": [
        "a = 'hello'; print(type(a)); print(a[1])"
      ],
      "execution_count": null,
      "outputs": [
        {
          "output_type": "stream",
          "name": "stdout",
          "text": [
            "<class 'str'>\n",
            "e\n"
          ]
        }
      ]
    },
    {
      "cell_type": "code",
      "metadata": {
        "id": "Df6PhU-tHXr2",
        "outputId": "8927f95a-de28-478d-c6c9-555a104c326d",
        "colab": {
          "base_uri": "https://localhost:8080/"
        }
      },
      "source": [
        "a = [1, 2, 3, 4]; print(type(a)); print(a[0])"
      ],
      "execution_count": null,
      "outputs": [
        {
          "output_type": "stream",
          "name": "stdout",
          "text": [
            "<class 'list'>\n",
            "1\n"
          ]
        }
      ]
    },
    {
      "cell_type": "code",
      "metadata": {
        "id": "DfS-gknCRheL",
        "outputId": "0f074d80-4599-467b-8223-1994c50d5b69",
        "colab": {
          "base_uri": "https://localhost:8080/"
        }
      },
      "source": [
        "a = [1,'a', [3, '4']]; print(type(a)); print(a[0]); print(a[1]); print(a[2]); print(a[2][1])"
      ],
      "execution_count": null,
      "outputs": [
        {
          "output_type": "stream",
          "name": "stdout",
          "text": [
            "<class 'list'>\n",
            "1\n",
            "a\n",
            "[3, '4']\n",
            "4\n"
          ]
        }
      ]
    },
    {
      "cell_type": "markdown",
      "source": [
        "print(a[2][1])은 a[2]라는 list에서 [1]에 해당하는 원소를 출력하겠다는 뜻. 따라서 a[2]에 해당하는 list인 [3,'4']에서 [1]에 해당하는 4라는 string이 출력됨"
      ],
      "metadata": {
        "id": "cWximm9eOwzm"
      }
    },
    {
      "cell_type": "code",
      "source": [
        "a = [0,1,2,3,4,5,6,7,8]; print(a[0:5])"
      ],
      "metadata": {
        "id": "lRIKeK6nN2Aa",
        "outputId": "39e0de7e-2da1-48c9-e811-862a5503f9e3",
        "colab": {
          "base_uri": "https://localhost:8080/"
        }
      },
      "execution_count": null,
      "outputs": [
        {
          "output_type": "stream",
          "name": "stdout",
          "text": [
            "[0, 1, 2, 3, 4]\n"
          ]
        }
      ]
    },
    {
      "cell_type": "markdown",
      "source": [
        "a[1:5]에서 ':' 옆의 5는 5를 제외하고 해당 원소 전까지만 출력하는 의미. 따라서 5번째 원소인 5 전까지만 출력이 된다"
      ],
      "metadata": {
        "id": "3z2ajR1ZN8ZT"
      }
    },
    {
      "cell_type": "code",
      "source": [
        "a= [0,1,2,3,4,5]; print(a[0:-1])\n"
      ],
      "metadata": {
        "id": "SJFfYcZqOWQq",
        "outputId": "7b4b76d3-2cbc-42a9-bd6d-7055167ce10b",
        "colab": {
          "base_uri": "https://localhost:8080/"
        }
      },
      "execution_count": null,
      "outputs": [
        {
          "output_type": "stream",
          "name": "stdout",
          "text": [
            "[0, 1, 2, 3, 4]\n"
          ]
        }
      ]
    },
    {
      "cell_type": "markdown",
      "source": [
        "-1은 마지막에서 첫번째 원소인 5를 의미. 따라서 이를 제외하고 해당 원소 직전에 위치한 4까지만을 출력한다"
      ],
      "metadata": {
        "id": "xQ2ifR0uOV8j"
      }
    },
    {
      "cell_type": "code",
      "source": [
        "a = 'abcd1234'; a[3:-1]"
      ],
      "metadata": {
        "id": "FaBdJ24pPG8n",
        "outputId": "2e70f4f3-4001-4a22-9a4a-dcd18402c7a7",
        "colab": {
          "base_uri": "https://localhost:8080/",
          "height": 35
        }
      },
      "execution_count": null,
      "outputs": [
        {
          "output_type": "execute_result",
          "data": {
            "text/plain": [
              "'d123'"
            ],
            "application/vnd.google.colaboratory.intrinsic+json": {
              "type": "string"
            }
          },
          "metadata": {},
          "execution_count": 19
        }
      ]
    },
    {
      "cell_type": "code",
      "source": [
        "a=(1,2,3)"
      ],
      "metadata": {
        "id": "BFfpLx3wPjK-"
      },
      "execution_count": null,
      "outputs": []
    },
    {
      "cell_type": "markdown",
      "source": [
        "[ ]가 아니라 ( )로 묶게되면 list가 아니라 tuple이라는 유형으로 취급됨.\n",
        "\n",
        "list와 달리, tuple의 경우 a[1] = x 라는 명령어를 통해 원소를 바꿀 수 없다.\n",
        "\n",
        "중요한 정보를 실수로 바꾸는 상황을 막기 위한 정보 유형."
      ],
      "metadata": {
        "id": "t6g6FyoNPlvR"
      }
    },
    {
      "cell_type": "code",
      "metadata": {
        "id": "2sivfloGRheM",
        "outputId": "43a7b7f6-d5cd-407a-bdf3-7232133b442c",
        "colab": {
          "base_uri": "https://localhost:8080/"
        }
      },
      "source": [
        "a =\t{\"a\": \"apple\", \"b\": \"orange\", \"c\": 2014}\n",
        "print(type(a))\n",
        "print(a[\"a\"])\n",
        "print(a[\"c\"])"
      ],
      "execution_count": null,
      "outputs": [
        {
          "output_type": "stream",
          "name": "stdout",
          "text": [
            "<class 'dict'>\n",
            "apple\n",
            "2014\n"
          ]
        }
      ]
    },
    {
      "cell_type": "markdown",
      "source": [
        "{ }로 묶여있는 이 데이터 유형은 dict.dictionary의 준말. key와 value가 쌍으로 이루어져 있음. 사전과 같은 데이터베이스를 생성하는 것.\n",
        "a[1]에 해당하는 \"a\":\"apple\"를 서로 key어와 value어인 것. a는 apple을 의미하는 표제어의 역할을 하는 것. 따라서 print(a[\"a\"])라는 명령어를 주면 apple이라는 value어가 출력되는 것."
      ],
      "metadata": {
        "id": "ZbMeV-fsP705"
      }
    },
    {
      "cell_type": "code",
      "source": [
        ""
      ],
      "metadata": {
        "id": "o8L8VzmHII7v"
      },
      "execution_count": null,
      "outputs": []
    },
    {
      "cell_type": "code",
      "source": [
        ""
      ],
      "metadata": {
        "id": "iYvalHrYOTlf"
      },
      "execution_count": null,
      "outputs": []
    }
  ]
}
